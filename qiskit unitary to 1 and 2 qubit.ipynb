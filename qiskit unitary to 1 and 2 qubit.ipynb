{
 "cells": [
  {
   "cell_type": "code",
   "execution_count": 165,
   "id": "025acaf1",
   "metadata": {},
   "outputs": [],
   "source": [
    "from qiskit import QuantumCircuit, transpile\n",
    "from qiskit import *\n",
    "from qiskit import Aer\n",
    "import qiskit.quantum_info as qi\n",
    "import numpy as np\n",
    "import re"
   ]
  },
  {
   "cell_type": "code",
   "execution_count": 166,
   "id": "ce963a84",
   "metadata": {},
   "outputs": [],
   "source": [
    "# Target state.\n",
    "Target_state = '100'"
   ]
  },
  {
   "cell_type": "code",
   "execution_count": 167,
   "id": "0c989f15",
   "metadata": {},
   "outputs": [
    {
     "name": "stdout",
     "output_type": "stream",
     "text": [
      "[[ 1.+0.j  0.+0.j  0.+0.j  0.+0.j  0.+0.j  0.+0.j  0.+0.j  0.+0.j]\n",
      " [ 0.+0.j  1.+0.j  0.+0.j  0.+0.j  0.+0.j  0.+0.j  0.+0.j  0.+0.j]\n",
      " [ 0.+0.j  0.+0.j  1.+0.j  0.+0.j  0.+0.j  0.+0.j  0.+0.j  0.+0.j]\n",
      " [ 0.+0.j  0.+0.j  0.+0.j  1.+0.j  0.+0.j  0.+0.j  0.+0.j  0.+0.j]\n",
      " [ 0.+0.j  0.+0.j  0.+0.j  0.+0.j -1.+0.j  0.+0.j  0.+0.j  0.+0.j]\n",
      " [ 0.+0.j  0.+0.j  0.+0.j  0.+0.j  0.+0.j  1.+0.j  0.+0.j  0.+0.j]\n",
      " [ 0.+0.j  0.+0.j  0.+0.j  0.+0.j  0.+0.j  0.+0.j  1.+0.j  0.+0.j]\n",
      " [ 0.+0.j  0.+0.j  0.+0.j  0.+0.j  0.+0.j  0.+0.j  0.+0.j  1.+0.j]]\n"
     ]
    }
   ],
   "source": [
    "# matrix construction.\n",
    "N = len(Target_state)\n",
    "U = np.identity(2 ** N, dtype=complex)\n",
    "Target_index = int(Target_state, 2)\n",
    "U.itemset((Target_index, Target_index),-1)\n",
    "print(U)"
   ]
  },
  {
   "cell_type": "code",
   "execution_count": 168,
   "id": "dbbc4668",
   "metadata": {
    "scrolled": true
   },
   "outputs": [
    {
     "data": {
      "text/plain": [
       "<qiskit.circuit.instructionset.InstructionSet at 0x7fac99107a80>"
      ]
     },
     "execution_count": 168,
     "metadata": {},
     "output_type": "execute_result"
    }
   ],
   "source": [
    "# Extracting the number of qubits.\n",
    "\n",
    "qc = QuantumCircuit(N)\n",
    "qc.unitary(U,[i for i in range(N)])\n",
    "#qc.draw('mpl')"
   ]
  },
  {
   "cell_type": "code",
   "execution_count": 169,
   "id": "c0a100f1",
   "metadata": {},
   "outputs": [],
   "source": [
    "trans_qc = transpile(qc, basis_gates = ['cx','u3'])"
   ]
  },
  {
   "cell_type": "markdown",
   "id": "49b4e179",
   "metadata": {},
   "source": [
    "## Structure of the gate_object in qiskit.\n",
    "(Instruction(name='u3', num_qubits=1, num_clbits=0, params=[angle, angle, angle]), [Qubit(QuantumRegister(Total number of qubits, 'q'), Position of $U_3$)], [])\n"
   ]
  },
  {
   "cell_type": "code",
   "execution_count": 170,
   "id": "4e15a5b7",
   "metadata": {},
   "outputs": [
    {
     "name": "stdout",
     "output_type": "stream",
     "text": [
      "Gate = u3  Qubit = 0 , Angle = [0.0, 0.0, 0.98174770424681]\n",
      "Gate = cx  Control Bit = 1 , Target bit = 0\n",
      "Gate = u3  Qubit = 0 , Angle = [0.0, 0.0, -0.785398163397448]\n",
      "Gate = cx  Control Bit = 2 , Target bit = 0\n",
      "Gate = u3  Qubit = 0 , Angle = [0.0, 0.0, -2.35619449019234]\n",
      "Gate = cx  Control Bit = 1 , Target bit = 0\n",
      "Gate = u3  Qubit = 0 , Angle = [0.0, 0.0, 0.785398163397448]\n",
      "Gate = u3  Qubit = 1 , Angle = [0.0, 0.0, -1.5707963267949]\n",
      "Gate = cx  Control Bit = 2 , Target bit = 0\n",
      "Gate = u3  Qubit = 0 , Angle = [1.5707963267948968, 0.0, -1.5707963267948966]\n",
      "Gate = cx  Control Bit = 2 , Target bit = 1\n",
      "Gate = u3  Qubit = 1 , Angle = [0.0, 0.0, -0.785398163397449]\n",
      "Gate = cx  Control Bit = 2 , Target bit = 1\n",
      "Gate = cx  Control Bit = 1 , Target bit = 0\n",
      "Gate = u3  Qubit = 0 , Angle = [1.5707963267948968, -1.5707963267948968, 1.5707963267948966]\n",
      "Gate = u3  Qubit = 2 , Angle = [0.0, 0.0, -0.785398163397448]\n",
      "Gate = cx  Control Bit = 2 , Target bit = 0\n",
      "Gate = u3  Qubit = 0 , Angle = [1.5707963267948968, -1.5707963267948966, 1.5707963267948966]\n",
      "Gate = cx  Control Bit = 1 , Target bit = 0\n",
      "Gate = u3  Qubit = 0 , Angle = [1.3744467859455345, -1.570796326794897, 1.5707963267948966]\n",
      "Gate = u3  Qubit = 1 , Angle = [1.5707963267948968, 0.0, -1.5707963267948966]\n",
      "Gate = cx  Control Bit = 2 , Target bit = 1\n",
      "Gate = u3  Qubit = 1 , Angle = [1.5707963267948968, -2.356194490192345, -3.141592653589793]\n",
      "Gate = cx  Control Bit = 1 , Target bit = 0\n",
      "Gate = u3  Qubit = 0 , Angle = [1.5707963267948968, -1.5707963267948966, 1.5707963267948966]\n",
      "Gate = cx  Control Bit = 2 , Target bit = 0\n",
      "Gate = u3  Qubit = 0 , Angle = [1.5707963267948968, -1.5707963267948966, 1.5707963267948966]\n",
      "Gate = cx  Control Bit = 1 , Target bit = 0\n",
      "Gate = u3  Qubit = 0 , Angle = [1.5707963267948968, -1.5707963267948966, -3.141592653589793]\n",
      "Total Number of gate = 29 , Number of U_3 = 16 , Number of CNOT = 13\n"
     ]
    }
   ],
   "source": [
    "\n",
    "f = trans_qc\n",
    "def List_Gates(Gate_Number):\n",
    "    l = []\n",
    "    Qubit = []\n",
    "    Angle = []\n",
    "\n",
    "    numeric_const_pattern = '[-+]? (?: (?: \\d* \\. \\d+ ) | (?: \\d+ \\.? ) )(?: [Ee] [+-]? \\d+ )?'\n",
    "    rx = re.compile(numeric_const_pattern, re.VERBOSE)\n",
    "    \n",
    "    if str(trans_qc[Gate_Number][0]).split(',')[0][-3:-1] == 'u3':\n",
    "        # list the three angles if the gate is u3.\n",
    "        l.append(str(list(f)[Gate_Number]).split(',')[3])\n",
    "        l.append(str(list(f)[Gate_Number]).split(',')[4])\n",
    "        l.append(str(list(f)[Gate_Number]).split(',')[5])\n",
    "        # extract the angle from the string of alphabet and digit.\n",
    "        for i in l:\n",
    "            if rx.findall(i) == []:\n",
    "                # the angle zero is written as 0.0 .\n",
    "                Angle.append(0.0)\n",
    "            else:\n",
    "                Angle.append(float(rx.findall(i)[0]))\n",
    "        # the qubit on which u3 acts is listed.        \n",
    "        Qubit.append(re.sub(\"\\D\", \"\", str(trans_qc[Gate_Number][1]).split(',')[2]))  \n",
    "        \n",
    "        # if the gate is cx then no need of angles.\n",
    "    else:\n",
    "        # the control and the target bit is listed.\n",
    "        Control_bit = re.sub(\"\\D\", '', str(trans_qc[Gate_Number][1][0]).split(',')[2])\n",
    "        Target_bit = re.sub(\"\\D\", '', str(trans_qc[Gate_Number][1][1]).split(',')[2])    \n",
    "        Qubit.append([Control_bit, Target_bit])\n",
    "        \n",
    "    return Angle, Qubit\n",
    "\n",
    "C_not_number = 0\n",
    "U_3_number = 0\n",
    "l = []\n",
    "for i in range(len(f)):\n",
    "    if str(trans_qc[i][0]).split(',')[0][-3:-1] == 'u3':\n",
    "        l.append([str(trans_qc[i][0]).split(',')[0][-3:-1], List_Gates(i)[1][0], List_Gates(i)[0] ])\n",
    "        print('Gate =',str(trans_qc[i][0]).split(',')[0][-3:-1],\n",
    "                ' Qubit =', List_Gates(i)[1][0],', Angle =', List_Gates(i)[0])\n",
    "        U_3_number = U_3_number + 1\n",
    "    else:\n",
    "        l.append([str(trans_qc[i][0]).split(',')[0][-3:-1], List_Gates(i)[1][0][0], List_Gates(i)[1][0][1] ])\n",
    "        print('Gate =',str(trans_qc[i][0]).split(',')[0][-3:-1],\n",
    "            ' Control Bit =', List_Gates(i)[1][0][0], ', Target bit =', List_Gates(i)[1][0][1])\n",
    "        C_not_number = C_not_number + 1\n",
    "#print(l)\n",
    "print('Total Number of gate =', U_3_number + C_not_number,\n",
    "      ', Number of U_3 =', U_3_number, ', Number of CNOT =', C_not_number)"
   ]
  },
  {
   "cell_type": "code",
   "execution_count": 171,
   "id": "f7b89763",
   "metadata": {
    "scrolled": false
   },
   "outputs": [
    {
     "data": {
      "image/png": "[encoded data removed]",
      "text/plain": [
       "<Figure size 1591.6x445.48 with 1 Axes>"
      ]
     },
     "execution_count": 171,
     "metadata": {},
     "output_type": "execute_result"
    }
   ],
   "source": [
    "trans_qc.draw('mpl')"
   ]
  },
  {
   "cell_type": "markdown",
   "id": "2bcf6c52",
   "metadata": {},
   "source": [
    "## The matrix  $$\n",
    "U_{3}(\\theta, \\phi, \\lambda) = \\begin{bmatrix}\n",
    "\\cos \\frac{\\theta}{2} & -e^{i \\lambda} \\sin \\frac{\\theta}{2} \\\\\n",
    "e^{i \\phi} \\sin \\frac{\\theta}{2} & e^{i(\\phi+\\lambda)} \\cos \\frac{\\theta}{2}\n",
    "\\end{bmatrix} \n",
    "$$"
   ]
  },
  {
   "cell_type": "code",
   "execution_count": 172,
   "id": "62611b3f",
   "metadata": {},
   "outputs": [],
   "source": [
    "def U_3_matrix(theta, phi, lamb, qubit):\n",
    "    #Changing the simulator \n",
    "    backend = Aer.get_backend('unitary_simulator')\n",
    "\n",
    "    #The circuit without measurement\n",
    "    circ = QuantumCircuit(N)\n",
    "    circ.u(theta, phi, lamb, qubit)\n",
    "\n",
    "    #job execution and getting the result as an object\n",
    "    job = execute(circ, backend)\n",
    "    result = job.result()\n",
    "\n",
    "    #get the unitary matrix from the result object\n",
    "    return result.get_unitary(circ)"
   ]
  },
  {
   "cell_type": "code",
   "execution_count": 173,
   "id": "45789b2b",
   "metadata": {},
   "outputs": [],
   "source": [
    "#U_3_matrix(np.pi/2, 0, np.pi, 0)"
   ]
  },
  {
   "cell_type": "markdown",
   "id": "14dab445",
   "metadata": {},
   "source": [
    "## The matrix CNOT(target, control)"
   ]
  },
  {
   "cell_type": "code",
   "execution_count": 174,
   "id": "f7969a5b",
   "metadata": {},
   "outputs": [],
   "source": [
    "#def C_not(t, c):\n",
    "#    qc = QuantumCircuit(N)\n",
    "#    # Apply CNOT\n",
    "#    qc.cx(t, c)\n",
    "#    op = qi.Operator(qc)\n",
    "#    array = op.data\n",
    "#    return array\n",
    "\n",
    "def C_not(t,c):\n",
    "    #Changing the simulator \n",
    "    backend = Aer.get_backend('unitary_simulator')\n",
    "\n",
    "    #The circuit without measurement\n",
    "    circ = QuantumCircuit(N)\n",
    "    circ.cx(t,c)\n",
    "\n",
    "    #job execution and getting the result as an object\n",
    "    job = execute(circ, backend)\n",
    "    result = job.result()\n",
    "\n",
    "    #get the unitary matrix from the result object\n",
    "    return result.get_unitary(circ)  "
   ]
  },
  {
   "cell_type": "code",
   "execution_count": 175,
   "id": "d3487dd2",
   "metadata": {},
   "outputs": [],
   "source": [
    "#print(C_not(0,1))"
   ]
  },
  {
   "cell_type": "markdown",
   "id": "4566ece4",
   "metadata": {},
   "source": [
    "## Let the decomposition of the oracle be $U_d, U_{d-1}, ..., U_2, U_1$.\n",
    "$$Oracle = U_d  U_{d-1}  ...U_2 U_1$$"
   ]
  },
  {
   "cell_type": "code",
   "execution_count": 176,
   "id": "cf9492db",
   "metadata": {},
   "outputs": [
    {
     "name": "stdout",
     "output_type": "stream",
     "text": [
      "[[-7.73010453e-01+6.34393284e-01j -3.80400146e-16+3.16401141e-16j\n",
      "  -6.58440284e-17-6.00181886e-18j -3.03091783e-32+4.90653893e-18j\n",
      "   0.00000000e+00+0.00000000e+00j  0.00000000e+00+0.00000000e+00j\n",
      "   0.00000000e+00+0.00000000e+00j  0.00000000e+00+0.00000000e+00j]\n",
      " [ 2.69377844e-16-3.16401141e-16j -7.73010453e-01+6.34393284e-01j\n",
      "   3.04401229e-32-4.90653893e-18j -5.60309506e-17-6.00181886e-18j\n",
      "   0.00000000e+00+0.00000000e+00j  0.00000000e+00+0.00000000e+00j\n",
      "   0.00000000e+00+0.00000000e+00j  0.00000000e+00+0.00000000e+00j]\n",
      " [-6.31225311e-33-3.92523115e-17j -3.08148791e-33-2.24569882e-34j\n",
      "  -7.73010453e-01+6.34393284e-01j -2.69377844e-16+4.27423444e-16j\n",
      "   0.00000000e+00+0.00000000e+00j  0.00000000e+00+0.00000000e+00j\n",
      "   0.00000000e+00+0.00000000e+00j  0.00000000e+00+0.00000000e+00j]\n",
      " [-3.08148791e-33+2.24569882e-34j  1.35227858e-32-3.92523115e-17j\n",
      "   3.24888995e-16-9.43565365e-17j -7.73010453e-01+6.34393284e-01j\n",
      "   0.00000000e+00+0.00000000e+00j  0.00000000e+00+0.00000000e+00j\n",
      "   0.00000000e+00+0.00000000e+00j  0.00000000e+00+0.00000000e+00j]\n",
      " [ 0.00000000e+00+0.00000000e+00j  0.00000000e+00+0.00000000e+00j\n",
      "   0.00000000e+00+0.00000000e+00j  0.00000000e+00+0.00000000e+00j\n",
      "   7.73010453e-01-6.34393284e-01j  1.74711366e-16-1.27688068e-16j\n",
      "  -8.05636452e-17+1.51007427e-16j -4.33222279e-33-4.90653893e-18j]\n",
      " [ 0.00000000e+00+0.00000000e+00j  0.00000000e+00+0.00000000e+00j\n",
      "   0.00000000e+00+0.00000000e+00j  0.00000000e+00+0.00000000e+00j\n",
      "   6.36890636e-17-1.83199220e-16j -7.73010453e-01+6.34393284e-01j\n",
      "   4.93310051e-33-3.08356228e-33j -7.56571063e-17+1.51007427e-16j]\n",
      " [ 0.00000000e+00+0.00000000e+00j  0.00000000e+00+0.00000000e+00j\n",
      "   0.00000000e+00+0.00000000e+00j  0.00000000e+00+0.00000000e+00j\n",
      "  -1.57009246e-16+3.92523115e-17j  6.53255561e-33-1.47294625e-32j\n",
      "  -7.73010453e-01+6.34393284e-01j  1.19200215e-16-2.38710371e-16j]\n",
      " [ 0.00000000e+00+0.00000000e+00j  0.00000000e+00+0.00000000e+00j\n",
      "   0.00000000e+00+0.00000000e+00j  0.00000000e+00+0.00000000e+00j\n",
      "   1.26955314e-32+9.92244076e-33j  1.57009246e-16-3.92523115e-17j\n",
      "   1.02844390e-16+7.21769172e-17j -7.73010453e-01+6.34393284e-01j]]\n"
     ]
    }
   ],
   "source": [
    "Matrix = np.identity(2**N, dtype = complex) \n",
    "for i in range(len(l)):\n",
    "    if l[i][0] == 'u3':\n",
    "        Matrix = np.matmul(U_3_matrix(l[i][2][0], l[i][2][1], l[i][2][2], int(l[i][1])) ,Matrix)\n",
    "    else:\n",
    "        Matrix = np.matmul(C_not(int(l[i][1]), int(l[i][2])), Matrix)\n",
    "        \n",
    "print(Matrix)"
   ]
  },
  {
   "cell_type": "code",
   "execution_count": null,
   "id": "ff3136b8",
   "metadata": {},
   "outputs": [],
   "source": []
  }
 ],
 "metadata": {
  "kernelspec": {
   "display_name": "Python 3 (ipykernel)",
   "language": "python",
   "name": "python3"
  },
  "language_info": {
   "codemirror_mode": {
    "name": "ipython",
    "version": 3
   },
   "file_extension": ".py",
   "mimetype": "text/x-python",
   "name": "python",
   "nbconvert_exporter": "python",
   "pygments_lexer": "ipython3",
   "version": "3.9.7"
  }
 },
 "nbformat": 4,
 "nbformat_minor": 5
}
