{
 "cells": [
  {
   "cell_type": "code",
   "execution_count": 502,
   "id": "025acaf1",
   "metadata": {},
   "outputs": [],
   "source": [
    "from qiskit import QuantumCircuit, transpile\n",
    "import numpy as np\n",
    "import re"
   ]
  },
  {
   "cell_type": "code",
   "execution_count": 503,
   "id": "d544d81b",
   "metadata": {},
   "outputs": [],
   "source": [
    "# Target state.\n",
    "Target_state = '001'"
   ]
  },
  {
   "cell_type": "code",
   "execution_count": 504,
   "id": "0c989f15",
   "metadata": {},
   "outputs": [],
   "source": [
    "U = np.matrix([[1,0,0,0,0,0,0,0],\n",
    "               [0,-1,0,0,0,0,0,0],\n",
    "               [0,0,1,0,0,0,0,0],\n",
    "               [0,0,0,1,0,0,0,0],\n",
    "               [0,0,0,0,1,0,0,0],\n",
    "               [0,0,0,0,0,1,0,0],\n",
    "               [0,0,0,0,0,0,1,0],\n",
    "               [0,0,0,0,0,0,0,1]])\n",
    "#U = np.matrix([[1,0,0,0],\n",
    "               #[0,-1,0,0],\n",
    "               #[0,0,1,0],\n",
    "               #[0,0,0,1]])"
   ]
  },
  {
   "cell_type": "code",
   "execution_count": 505,
   "id": "dbbc4668",
   "metadata": {},
   "outputs": [
    {
     "data": {
      "image/png": "[encoded data removed]",
      "text/plain": [
       "<Figure size 206.997x204.68 with 1 Axes>"
      ]
     },
     "execution_count": 505,
     "metadata": {},
     "output_type": "execute_result"
    }
   ],
   "source": [
    "# Extracting the number of qubits.\n",
    "n = 3\n",
    "\n",
    "qc = QuantumCircuit(n)\n",
    "qc.unitary(U,[0,1,2])\n",
    "qc.draw('mpl')"
   ]
  },
  {
   "cell_type": "code",
   "execution_count": 506,
   "id": "c0a100f1",
   "metadata": {},
   "outputs": [],
   "source": [
    "trans_qc = transpile(qc, basis_gates = ['cx','u3'])"
   ]
  },
  {
   "cell_type": "code",
   "execution_count": 507,
   "id": "6ea97741",
   "metadata": {},
   "outputs": [
    {
     "data": {
      "text/plain": [
       "[Qubit(QuantumRegister(3, 'q'), 2), Qubit(QuantumRegister(3, 'q'), 0)]"
      ]
     },
     "execution_count": 507,
     "metadata": {},
     "output_type": "execute_result"
    }
   ],
   "source": [
    "trans_qc[3][1]"
   ]
  },
  {
   "cell_type": "code",
   "execution_count": 508,
   "id": "cdb8b945",
   "metadata": {},
   "outputs": [
    {
     "name": "stdout",
     "output_type": "stream",
     "text": [
      "('2', '0')\n"
     ]
    }
   ],
   "source": [
    "def Gate(Gate_Number):  \n",
    "     #trans_qc(gate number, the second list has qubit position, two is the qubit)\n",
    "    if str(trans_qc[Gate_Number][0]).split(',')[0][-3:-1] == 'u3':\n",
    "        return re.sub(\"\\D\", \"\", str(trans_qc[Gate_Number][1]).split(',')[2])\n",
    "    else:\n",
    "        Control_bit = re.sub(\"\\D\", '', str(trans_qc[Gate_Number][1][0]).split(',')[2])\n",
    "        Target_bit = re.sub(\"\\D\", '', str(trans_qc[Gate_Number][1][1]).split(',')[2])\n",
    "        return (Control_bit, Target_bit)\n",
    "print(Gate(3))"
   ]
  },
  {
   "cell_type": "markdown",
   "id": "9aef12e6",
   "metadata": {},
   "source": [
    "## Structure of the gate_object in qiskit.\n",
    "(Instruction(name='u3', num_qubits=1, num_clbits=0, params=[angle, angle, angle]), [Qubit(QuantumRegister(Total number of qubits, 'q'), Position of $U_3$)], [])\n"
   ]
  },
  {
   "cell_type": "code",
   "execution_count": 513,
   "id": "d2fafa4f",
   "metadata": {},
   "outputs": [
    {
     "name": "stdout",
     "output_type": "stream",
     "text": [
      "Gate = u3  Qubit = 0 , Angle = [0.0, 0.0, 0.785398163397448]\n",
      "Gate = cx  Control Bit = 1 , Target bit = 0\n",
      "Gate = u3  Qubit = 0 , Angle = [0.0, 0.0, 0.785398163397448]\n",
      "Gate = cx  Control Bit = 2 , Target bit = 0\n",
      "Gate = u3  Qubit = 0 , Angle = [0.0, 0.0, 0.785398163397448]\n",
      "Gate = cx  Control Bit = 1 , Target bit = 0\n",
      "Gate = u3  Qubit = 0 , Angle = [0.0, 0.0, 0.785398163397448]\n",
      "Gate = u3  Qubit = 1 , Angle = [0.0, 0.0, 0.785398163397448]\n",
      "Gate = cx  Control Bit = 2 , Target bit = 0\n",
      "Gate = cx  Control Bit = 2 , Target bit = 1\n",
      "Gate = u3  Qubit = 1 , Angle = [0.0, 0.0, 0.785398163397448]\n",
      "Gate = cx  Control Bit = 2 , Target bit = 1\n",
      "Gate = u3  Qubit = 2 , Angle = [0.0, 0.0, 0.785398163397448]\n",
      "None\n"
     ]
    }
   ],
   "source": [
    "def Return_Gate(f):\n",
    "    \n",
    "    def List_Angle(Gate_Number):\n",
    "        # List the angle.\n",
    "        if str(trans_qc[Gate_Number][0]).split(',')[0][-3:-1] == 'u3':\n",
    "            l = []\n",
    "            l.append(str(list(f)[Gate_Number]).split(',')[3])\n",
    "            l.append(str(list(f)[Gate_Number]).split(',')[4])\n",
    "            l.append(str(list(f)[Gate_Number]).split(',')[5])\n",
    "    \n",
    "            Angle = []\n",
    "            for i in l:\n",
    "                if re.findall(\"\\d+\\.\\d+\",i) == []:\n",
    "                    Angle.append(0.0)\n",
    "                else:\n",
    "                    Angle.append(float(re.findall(\"\\d+\\.\\d+\",i)[0]))\n",
    "            return Angle\n",
    "        \n",
    "    #the function return the qubit if the gate u3 and the control and target bit if the gate is cx.    \n",
    "    def Qubit(Gate_Number):  \n",
    "     #trans_qc(gate number, the second list has qubit position, two is the qubit)\n",
    "     #if the gate is u3 angle is printed.\n",
    "        if str(trans_qc[Gate_Number][0]).split(',')[0][-3:-1] == 'u3':\n",
    "            \n",
    "            # re.sub return the digit out a string mixed of alphabet and digit.\n",
    "            return re.sub(\"\\D\", \"\", str(trans_qc[Gate_Number][1]).split(',')[2])\n",
    "        # if the gate is cx the control and target bit is printed.\n",
    "        else:\n",
    "            Control_bit = re.sub(\"\\D\", '', str(trans_qc[Gate_Number][1][0]).split(',')[2])\n",
    "            Target_bit = re.sub(\"\\D\", '', str(trans_qc[Gate_Number][1][1]).split(',')[2])\n",
    "            return (Control_bit, Target_bit)\n",
    "\n",
    "\n",
    "    for i in range(len(f)):\n",
    "        if str(trans_qc[i][0]).split(',')[0][-3:-1] == 'u3':\n",
    "            print('Gate =',str(trans_qc[i][0]).split(',')[0][-3:-1],\n",
    "                  ' Qubit =', Qubit(i),', Angle =', List_Angle(i))\n",
    "        else:\n",
    "            print('Gate =',str(trans_qc[i][0]).split(',')[0][-3:-1],\n",
    "                  ' Control Bit =', Qubit(i)[0], ', Target bit =', Qubit(i)[1])            \n",
    "        #l.append([str(trans_qc[i][0]).split(',')[0][-3:-1], List_Angle(i), Qubit(i)])  \n",
    "print(Return_Gate(trans_qc))\n"
   ]
  },
  {
   "cell_type": "code",
   "execution_count": 510,
   "id": "f7b89763",
   "metadata": {
    "scrolled": false
   },
   "outputs": [
    {
     "data": {
      "image/png": "[encoded data removed]",
      "text/plain": [
       "<Figure size 808.997x204.68 with 1 Axes>"
      ]
     },
     "execution_count": 510,
     "metadata": {},
     "output_type": "execute_result"
    }
   ],
   "source": [
    "trans_qc.draw('mpl')"
   ]
  },
  {
   "cell_type": "code",
   "execution_count": null,
   "id": "99f90805",
   "metadata": {},
   "outputs": [],
   "source": []
  },
  {
   "cell_type": "code",
   "execution_count": null,
   "id": "8150b411",
   "metadata": {},
   "outputs": [],
   "source": []
  },
  {
   "cell_type": "code",
   "execution_count": null,
   "id": "dd33d3ec",
   "metadata": {},
   "outputs": [],
   "source": []
  }
 ],
 "metadata": {
  "kernelspec": {
   "display_name": "Python 3 (ipykernel)",
   "language": "python",
   "name": "python3"
  },
  "language_info": {
   "codemirror_mode": {
    "name": "ipython",
    "version": 3
   },
   "file_extension": ".py",
   "mimetype": "text/x-python",
   "name": "python",
   "nbconvert_exporter": "python",
   "pygments_lexer": "ipython3",
   "version": "3.9.7"
  }
 },
 "nbformat": 4,
 "nbformat_minor": 5
}
