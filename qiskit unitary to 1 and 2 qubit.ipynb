{
 "cells": [
  {
   "cell_type": "code",
   "execution_count": 837,
   "id": "025acaf1",
   "metadata": {},
   "outputs": [],
   "source": [
    "from qiskit import QuantumCircuit, transpile\n",
    "import numpy as np\n",
    "import re"
   ]
  },
  {
   "cell_type": "code",
   "execution_count": 838,
   "id": "ce963a84",
   "metadata": {},
   "outputs": [],
   "source": [
    "# Target state.\n",
    "Target_state = '11'"
   ]
  },
  {
   "cell_type": "code",
   "execution_count": null,
   "id": "ae06ed19",
   "metadata": {},
   "outputs": [],
   "source": []
  },
  {
   "cell_type": "code",
   "execution_count": 839,
   "id": "0c989f15",
   "metadata": {},
   "outputs": [],
   "source": [
    "# matrix construction.\n",
    "N = len(Target_state)\n",
    "U = np.identity(2 ** N, dtype=complex)\n",
    "Target_index = int(Target_state, 2)\n",
    "U.itemset((Target_index, Target_index),-1)"
   ]
  },
  {
   "cell_type": "code",
   "execution_count": 840,
   "id": "dbbc4668",
   "metadata": {
    "scrolled": true
   },
   "outputs": [
    {
     "data": {
      "image/png": "[encoded data removed]",
      "text/plain": [
       "<Figure size 206.852x144.48 with 1 Axes>"
      ]
     },
     "execution_count": 840,
     "metadata": {},
     "output_type": "execute_result"
    }
   ],
   "source": [
    "# Extracting the number of qubits.\n",
    "\n",
    "qc = QuantumCircuit(N)\n",
    "qc.unitary(U,[i for i in range(N)])\n",
    "qc.draw('mpl')"
   ]
  },
  {
   "cell_type": "markdown",
   "id": "63f27ccf",
   "metadata": {},
   "source": [
    "$$\n",
    "U_{3}(\\theta, \\phi, \\lambda) = \\begin{bmatrix}\n",
    "\\cos \\frac{\\theta}{2} & -e^{i \\lambda} \\sin \\frac{\\theta}{2} \\\\\n",
    "e^{i \\phi} \\sin \\frac{\\theta}{2} & e^{i(\\phi+\\lambda)} \\cos \\frac{\\theta}{2}\n",
    "\\end{bmatrix} \n",
    "$$"
   ]
  },
  {
   "cell_type": "code",
   "execution_count": 841,
   "id": "c0a100f1",
   "metadata": {},
   "outputs": [],
   "source": [
    "trans_qc = transpile(qc, basis_gates = ['cx','u3'])"
   ]
  },
  {
   "cell_type": "markdown",
   "id": "49b4e179",
   "metadata": {},
   "source": [
    "## Structure of the gate_object in qiskit.\n",
    "(Instruction(name='u3', num_qubits=1, num_clbits=0, params=[angle, angle, angle]), [Qubit(QuantumRegister(Total number of qubits, 'q'), Position of $U_3$)], [])\n"
   ]
  },
  {
   "cell_type": "code",
   "execution_count": 842,
   "id": "4e15a5b7",
   "metadata": {},
   "outputs": [
    {
     "name": "stdout",
     "output_type": "stream",
     "text": [
      "Gate = u3  Qubit = 1 , Angle = [1.5707963267948963, -3.141592653589793, -0.7853981633974483]\n",
      "Gate = cx  Control Bit = 0 , Target bit = 1\n",
      "Gate = u3  Qubit = 0 , Angle = [1.1102230246251568e-16, -4.440892098500626e-16, -3.141592653589793]\n",
      "Gate = u3  Qubit = 1 , Angle = [1.5707963267948966, -2.3561944901923457, 0.0]\n",
      "Total Number of gate = 4 , Number of U_3 = 3 , Number of CNOT = 1\n"
     ]
    }
   ],
   "source": [
    "\n",
    "f = trans_qc\n",
    "def List_Gates(Gate_Number):\n",
    "    l = []\n",
    "    Qubit = []\n",
    "    Angle = []\n",
    "\n",
    "    numeric_const_pattern = '[-+]? (?: (?: \\d* \\. \\d+ ) | (?: \\d+ \\.? ) )(?: [Ee] [+-]? \\d+ ) ?'\n",
    "    rx = re.compile(numeric_const_pattern, re.VERBOSE)\n",
    "    \n",
    "    if str(trans_qc[Gate_Number][0]).split(',')[0][-3:-1] == 'u3':\n",
    "        # list the three angles if the gate is u3.\n",
    "        l.append(str(list(f)[Gate_Number]).split(',')[3])\n",
    "        l.append(str(list(f)[Gate_Number]).split(',')[4])\n",
    "        l.append(str(list(f)[Gate_Number]).split(',')[5])\n",
    "        # extract the angle from the string of alphabet and digit.\n",
    "        for i in l:\n",
    "            if rx.findall(i) == []:\n",
    "                # the angle zero is written as 0.0 .\n",
    "                Angle.append(0.0)\n",
    "            else:\n",
    "                Angle.append(float(rx.findall(i)[0]))\n",
    "        # the qubit on which u3 acts is listed.        \n",
    "        Qubit.append(re.sub(\"\\D\", \"\", str(trans_qc[Gate_Number][1]).split(',')[2]))  \n",
    "        \n",
    "        # if the gate is cx then no need of angles.\n",
    "    else:\n",
    "        # the control and the target bit is listed.\n",
    "        Control_bit = re.sub(\"\\D\", '', str(trans_qc[Gate_Number][1][0]).split(',')[2])\n",
    "        Target_bit = re.sub(\"\\D\", '', str(trans_qc[Gate_Number][1][1]).split(',')[2])    \n",
    "        Qubit.append([Control_bit, Target_bit])\n",
    "        \n",
    "    return Angle, Qubit\n",
    "\n",
    "C_not_number = 0\n",
    "U_3_number = 0\n",
    "for i in range(len(f)):\n",
    "    if str(trans_qc[i][0]).split(',')[0][-3:-1] == 'u3':\n",
    "        print('Gate =',str(trans_qc[i][0]).split(',')[0][-3:-1],\n",
    "                ' Qubit =', List_Gates(i)[1][0],', Angle =', List_Gates(i)[0])\n",
    "        U_3_number = U_3_number + 1\n",
    "    else:\n",
    "        print('Gate =',str(trans_qc[i][0]).split(',')[0][-3:-1],\n",
    "                ' Control Bit =', List_Gates(i)[1][0][0], ', Target bit =', List_Gates(i)[1][0][1])\n",
    "        C_not_number = C_not_number + 1\n",
    "print('Total Number of gate =', U_3_number + C_not_number,\n",
    "      ', Number of U_3 =', U_3_number, ', Number of CNOT =', C_not_number)"
   ]
  },
  {
   "cell_type": "code",
   "execution_count": 843,
   "id": "f7b89763",
   "metadata": {
    "scrolled": false
   },
   "outputs": [
    {
     "data": {
      "image/png": "[encoded data removed]",
      "text/plain": [
       "<Figure size 387.452x144.48 with 1 Axes>"
      ]
     },
     "execution_count": 843,
     "metadata": {},
     "output_type": "execute_result"
    }
   ],
   "source": [
    "trans_qc.draw('mpl')"
   ]
  },
  {
   "cell_type": "code",
   "execution_count": null,
   "id": "99f90805",
   "metadata": {},
   "outputs": [],
   "source": []
  },
  {
   "cell_type": "code",
   "execution_count": null,
   "id": "8150b411",
   "metadata": {},
   "outputs": [],
   "source": []
  },
  {
   "cell_type": "code",
   "execution_count": null,
   "id": "dd33d3ec",
   "metadata": {},
   "outputs": [],
   "source": []
  }
 ],
 "metadata": {
  "kernelspec": {
   "display_name": "Python 3 (ipykernel)",
   "language": "python",
   "name": "python3"
  },
  "language_info": {
   "codemirror_mode": {
    "name": "ipython",
    "version": 3
   },
   "file_extension": ".py",
   "mimetype": "text/x-python",
   "name": "python",
   "nbconvert_exporter": "python",
   "pygments_lexer": "ipython3",
   "version": "3.9.7"
  }
 },
 "nbformat": 4,
 "nbformat_minor": 5
}
