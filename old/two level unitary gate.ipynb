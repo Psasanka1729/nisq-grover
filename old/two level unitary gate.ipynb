{
 "cells": [
  {
   "cell_type": "markdown",
   "id": "6b7f9043",
   "metadata": {},
   "source": [
    "# Grover operator as a product of two level unitary gates.\n",
    "$G = 2( |\\psi><\\psi|-I)O $ is the Grover operator with size $N\\times N$. We want the following with $d=\\frac{N(N-1)}{2}$\n",
    "\n",
    "$$ U_{d} U_{d-1}...U_{2}U_{1} G = 1 $$ \n",
    "\n",
    "such that\n",
    "\n",
    "$$ G = U_{1}^{\\dagger}U_{2}^{\\dagger}...U_{d-1}^{\\dagger} U_{d}^{\\dagger} $$\n",
    "\n",
    "Where $U_{i}$ are all $N\\times N$ two level unitary matrices. "
   ]
  },
  {
   "cell_type": "code",
   "execution_count": 16,
   "id": "a4bcb55d",
   "metadata": {},
   "outputs": [],
   "source": [
    "#!/usr/bin/env python\n",
    "# coding: utf-8\n",
    "import numpy as np\n",
    "from numpy.linalg import matrix_power"
   ]
  },
  {
   "cell_type": "markdown",
   "id": "a249e359",
   "metadata": {},
   "source": [
    "Number of bits $n$ such that $N=2^n$."
   ]
  },
  {
   "cell_type": "code",
   "execution_count": 17,
   "id": "9d030be5",
   "metadata": {},
   "outputs": [],
   "source": [
    "n = 2\n",
    "\n",
    "N = 2**n"
   ]
  },
  {
   "cell_type": "markdown",
   "id": "17dcb97c",
   "metadata": {},
   "source": [
    "## The Oracle\n",
    "The oracle is a  $N \\times N$ matrix with a minus sign in front of the location of the element we are looking for."
   ]
  },
  {
   "cell_type": "code",
   "execution_count": 18,
   "id": "793e59fb",
   "metadata": {},
   "outputs": [],
   "source": [
    "O = np.identity(N, dtype = complex)  "
   ]
  },
  {
   "cell_type": "markdown",
   "id": "54bba7c7",
   "metadata": {},
   "source": [
    "$k$ is the position of the qubit we are looking for."
   ]
  },
  {
   "cell_type": "code",
   "execution_count": 19,
   "id": "ff40bca4",
   "metadata": {},
   "outputs": [],
   "source": [
    "k = 2\n",
    "\n",
    "# The oracle matrix with a minus sign in the position of searched qubit. \n",
    "O.itemset((k,k), -1)"
   ]
  },
  {
   "cell_type": "markdown",
   "id": "f0ad5ee8",
   "metadata": {},
   "source": [
    "## The Grover operator $G = (2|\\psi><\\psi| -I)O$"
   ]
  },
  {
   "cell_type": "markdown",
   "id": "781a6541",
   "metadata": {},
   "source": [
    "$|\\psi><\\psi| = A$ is a matrix with every element $1$ in the computational basis."
   ]
  },
  {
   "cell_type": "code",
   "execution_count": 20,
   "id": "e880968d",
   "metadata": {},
   "outputs": [],
   "source": [
    "A = np.ones((N,N))"
   ]
  },
  {
   "cell_type": "markdown",
   "id": "26234bf2",
   "metadata": {},
   "source": [
    "Phase shift operation $ 2|\\psi> <\\psi|-I$"
   ]
  },
  {
   "cell_type": "code",
   "execution_count": 21,
   "id": "58dcff6f",
   "metadata": {},
   "outputs": [],
   "source": [
    "Phase = (2/N)*A - np.identity(N, dtype = complex)"
   ]
  },
  {
   "cell_type": "markdown",
   "id": "507c2185",
   "metadata": {},
   "source": [
    "The Grover operator $$ 2( |\\psi><\\psi|-I)O  $$"
   ]
  },
  {
   "cell_type": "code",
   "execution_count": 22,
   "id": "f10ee304",
   "metadata": {},
   "outputs": [],
   "source": [
    "V = np.matmul(Phase,O)"
   ]
  },
  {
   "cell_type": "markdown",
   "id": "62917457",
   "metadata": {},
   "source": [
    "Number of iterations\n",
    "$$ M = \\frac{\\pi}{4} \\sqrt{2^n} = \\frac{\\pi}{4} \\sqrt{N} $$"
   ]
  },
  {
   "cell_type": "code",
   "execution_count": 23,
   "id": "fa286375",
   "metadata": {},
   "outputs": [],
   "source": [
    "Num_iteration = int(np.pi/4 * np.sqrt(N))"
   ]
  },
  {
   "cell_type": "markdown",
   "id": "87d8bc08",
   "metadata": {},
   "source": [
    "The operator we will unfold into two qubit gates is $$ G = (2( |\\psi><\\psi|-I)O)^M $$"
   ]
  },
  {
   "cell_type": "code",
   "execution_count": 24,
   "id": "58e51148",
   "metadata": {},
   "outputs": [],
   "source": [
    "G = matrix_power(V,Num_iteration)"
   ]
  },
  {
   "cell_type": "markdown",
   "id": "057216b1",
   "metadata": {},
   "source": [
    "The following function calculates two level unitary matrices for a matrix of size\n",
    "greater than 3, returns a ordered pair of list\n",
    " of matrices U and the final product of all the U matrices.\n",
    " Following the algorithm given in Nielsen, M.A. and Chuang."
   ]
  },
  {
   "cell_type": "code",
   "execution_count": 25,
   "id": "d6d3adc5",
   "metadata": {},
   "outputs": [],
   "source": [
    "def CReductionN(Matrix):\n",
    "\n",
    "    Two_Level_Universal_Gate = []\n",
    "    \n",
    "    # Extract the size of the input matrix.\n",
    "    N = int(np.sqrt(Matrix.size))\n",
    "\n",
    "    for i in range(1,N):\n",
    "\n",
    "        if Matrix[i,0] == 0:\n",
    "\n",
    "            U = np.identity(N, dtype = complex)\n",
    "\n",
    "            if i == 0:\n",
    "                pass\n",
    "            else:\n",
    "                U.itemset((0,0), np.conjugate(Matrix[0,0]))\n",
    "\n",
    "        else:\n",
    "\n",
    "            a, b = Matrix[0,0], Matrix[i,0]\n",
    "\n",
    "            u00 = np.conjugate(a) / np.sqrt(np.absolute(a)**2 + np.absolute(b)**2)\n",
    "            u01 = np.conjugate(b) / np.sqrt(np.absolute(a)**2 + np.absolute(b)**2)\n",
    "            u10 = b / np.sqrt(np.absolute(a)**2 + np.absolute(b)**2)\n",
    "            u11 = - a / np.sqrt(np.absolute(a)**2 + np.absolute(b)**2)\n",
    "    \n",
    "            U = np.identity(N, dtype = complex)\n",
    "            U.itemset((0,0), u00)\n",
    "            U.itemset((0,i), u01)\n",
    "            U.itemset((i,0), u10)\n",
    "            U.itemset((i,i), u11)\n",
    "        \n",
    "        Two_Level_Universal_Gate.append(U)\n",
    "\n",
    "        # Calculating the product of all the U matrices with G.\n",
    "\n",
    "        Matrix = np.matmul(U, Matrix)\n",
    "\n",
    "    return Two_Level_Universal_Gate, Matrix"
   ]
  },
  {
   "cell_type": "markdown",
   "id": "f5bf8ac0",
   "metadata": {},
   "source": [
    "Function calculates two level unitary matrices for a 3x3 matrix.\n",
    "    Returns a list containing the two level matrices.\n",
    "    The function will be called reduced as it put zeros in the first \n",
    "    column and the first row.In what follows, the final matrix product\n",
    "    will be called reduced matrix."
   ]
  },
  {
   "cell_type": "code",
   "execution_count": 26,
   "id": "46293e9c",
   "metadata": {},
   "outputs": [],
   "source": [
    "def CReduction3(Matrix):\n",
    "\n",
    "    Two_Level_Universal_Gate = []\n",
    "    \n",
    "    # Size of the matrix is 3.\n",
    "    N = 3\n",
    " \n",
    "    for i in range(1,N):\n",
    "\n",
    "        if Matrix[i,0] == 0:\n",
    "\n",
    "            U = np.identity(N, dtype = complex)\n",
    "\n",
    "            # For the first iteration it is identity.\n",
    "            if i == 0:\n",
    "                \n",
    "                pass\n",
    "            \n",
    "            else:\n",
    "                \n",
    "                U.itemset((0,0), np.conjugate(Matrix[0,0]))\n",
    "\n",
    "        else:\n",
    "\n",
    "            a, b = Matrix[0,0], Matrix[i,0]\n",
    "\n",
    "            u00 = np.conjugate(a) / np.sqrt(np.absolute(a)**2 \\\n",
    "                + np.absolute(b)**2)\n",
    "            u01 = np.conjugate(b) / np.sqrt(np.absolute(a)**2 \\\n",
    "                + np.absolute(b)**2)\n",
    "            u10 = b / np.sqrt(np.absolute(a)**2 + np.absolute(b)**2)\n",
    "            u11 = - a / np.sqrt(np.absolute(a)**2 + np.absolute(b)**2)\n",
    "    \n",
    "            U = np.identity(N, dtype = complex)\n",
    "            U.itemset((0,0), u00)\n",
    "            U.itemset((0,i), u01)\n",
    "            U.itemset((i,0), u10)\n",
    "            U.itemset((i,i), u11)\n",
    "        \n",
    "        Two_Level_Universal_Gate.append(U)\n",
    "\n",
    "        # Calculating product of all the U matrices with G.\n",
    "        Matrix = np.matmul(U, Matrix)\n",
    "\n",
    "    # U3 is calculated sepatarely.\n",
    "    Two_Level_Universal_Gate.append(np.conjugate(Matrix).transpose())\n",
    "\n",
    "    return Two_Level_Universal_Gate"
   ]
  },
  {
   "cell_type": "markdown",
   "id": "6cf24c5f",
   "metadata": {},
   "source": [
    "The following function returns a sub matrix with one dimension lower than the input matrix."
   ]
  },
  {
   "cell_type": "code",
   "execution_count": 27,
   "id": "62c78fca",
   "metadata": {},
   "outputs": [],
   "source": [
    "def Extract_subMatrix(Matrix):\n",
    "\n",
    "    N = int(np.sqrt(Matrix.size))\n",
    "    subMatrix = Matrix[1:N, 1:N]\n",
    "\n",
    "    return  subMatrix"
   ]
  },
  {
   "cell_type": "markdown",
   "id": "ac69c860",
   "metadata": {},
   "source": [
    "The following function expands a given matrix to a required size."
   ]
  },
  {
   "cell_type": "code",
   "execution_count": 28,
   "id": "798c34a3",
   "metadata": {},
   "outputs": [],
   "source": [
    "def Expand_Matrix(Matrix, Required_Size):\n",
    "\n",
    "    # Intital size of the input matrix.\n",
    "    Initial_Size = int(np.sqrt(Matrix.size))\n",
    "\n",
    "    # Creating an initial identity matrix.\n",
    "    M = np.identity(Required_Size, dtype = complex)\n",
    "\n",
    "    # Size difference between the two matrics.\n",
    "    Sz = Required_Size - Initial_Size\n",
    "\n",
    "    # The elements from the old matrix is added to M, other row and column are part of\n",
    "    # identity matrix, this gurantees that the matrix is a two level unitary matrix.\n",
    "\n",
    "    for i in range(Sz, Required_Size):\n",
    "        \n",
    "        for j in range(Sz, Required_Size):\n",
    "            \n",
    "            M.itemset((i,j), Matrix[i-Sz,j-Sz])\n",
    "\n",
    "    return M"
   ]
  },
  {
   "cell_type": "markdown",
   "id": "31b0f56b",
   "metadata": {},
   "source": [
    "This loop will calculate the two level unitary matrices using the functions described above."
   ]
  },
  {
   "cell_type": "code",
   "execution_count": 29,
   "id": "459fcd34",
   "metadata": {},
   "outputs": [],
   "source": [
    "# This list will contain all the two level unitary gates.\n",
    "Unitary_gates = []\n",
    "\n",
    "Last_Reduced_Matrix = []\n",
    "\n",
    "for i in range(N, 2, -1):\n",
    "\n",
    "    # First iteration, start with original matrix G.\n",
    "    if len(Last_Reduced_Matrix) == 0:\n",
    "\n",
    "        M = G\n",
    "        for g in CReductionN(M)[0]:\n",
    "            \n",
    "            Unitary_gates.append(g)\n",
    "\n",
    "        # The reduced submatrix is put into the list to use in the next loop.\n",
    "        Last_Reduced_Matrix.append(Extract_subMatrix(CReductionN(M)[1]))\n",
    "\n",
    "    # 3x3 matrices are treated separetely with CReduction3(Matrix).\n",
    "    elif i == 3:\n",
    "\n",
    "        M = Last_Reduced_Matrix[-1]\n",
    "\n",
    "        for g in CReduction3(M):\n",
    "            \n",
    "            Unitary_gates.append(g)\n",
    "\n",
    "    else:\n",
    "\n",
    "        # Any other dimension is reduced with CReductionN(Matrix).\n",
    "        M = Last_Reduced_Matrix[-1]\n",
    "\n",
    "        for g in CReductionN(M)[0]:\n",
    "            \n",
    "            Unitary_gates.append(g)   \n",
    "\n",
    "        # The reduced submatrix is put into the list to use in the next loop.\n",
    "        Last_Reduced_Matrix.append(Extract_subMatrix(CReductionN(M)[1]))"
   ]
  },
  {
   "cell_type": "markdown",
   "id": "cdc56e98",
   "metadata": {},
   "source": [
    "Prints all the two level unitary gates."
   ]
  },
  {
   "cell_type": "code",
   "execution_count": 30,
   "id": "2b6afb2e",
   "metadata": {},
   "outputs": [
    {
     "name": "stdout",
     "output_type": "stream",
     "text": [
      "Operator being unfolded\n",
      "\n",
      " [[-0.5+0.j  0.5+0.j -0.5+0.j  0.5+0.j]\n",
      " [ 0.5+0.j -0.5+0.j -0.5+0.j  0.5+0.j]\n",
      " [ 0.5+0.j  0.5+0.j  0.5+0.j  0.5+0.j]\n",
      " [ 0.5+0.j  0.5+0.j -0.5+0.j -0.5+0.j]] \n",
      "\n",
      "\n",
      "Two level unitary gates\n",
      "\n",
      "U1\n",
      " [[-0.70710678+0.j  0.70710678-0.j  0.        +0.j  0.        +0.j]\n",
      " [ 0.70710678+0.j  0.70710678-0.j  0.        +0.j  0.        +0.j]\n",
      " [ 0.        +0.j  0.        +0.j  1.        +0.j  0.        +0.j]\n",
      " [ 0.        +0.j  0.        +0.j  0.        +0.j  1.        +0.j]] \n",
      "\n",
      "\n",
      "U2\n",
      " [[ 0.81649658-0.j  0.        +0.j  0.57735027-0.j  0.        +0.j]\n",
      " [ 0.        +0.j  1.        +0.j  0.        +0.j  0.        +0.j]\n",
      " [ 0.57735027+0.j  0.        +0.j -0.81649658+0.j  0.        +0.j]\n",
      " [ 0.        +0.j  0.        +0.j  0.        +0.j  1.        +0.j]] \n",
      "\n",
      "\n",
      "U3\n",
      " [[ 0.8660254-0.j  0.       +0.j  0.       +0.j  0.5      -0.j]\n",
      " [ 0.       +0.j  1.       +0.j  0.       +0.j  0.       +0.j]\n",
      " [ 0.       +0.j  0.       +0.j  1.       +0.j  0.       +0.j]\n",
      " [ 0.5      +0.j  0.       +0.j  0.       +0.j -0.8660254+0.j]] \n",
      "\n",
      "\n",
      "U4\n",
      " [[ 1.+0.j  0.+0.j  0.+0.j  0.+0.j]\n",
      " [ 0.+0.j  0.-0.j -1.+0.j  0.+0.j]\n",
      " [ 0.+0.j -1.+0.j -0.+0.j  0.+0.j]\n",
      " [ 0.+0.j  0.+0.j  0.+0.j  1.+0.j]] \n",
      "\n",
      "\n",
      "U5\n",
      " [[ 1.        +0.j  0.        +0.j  0.        +0.j  0.        +0.j]\n",
      " [ 0.        +0.j  0.81649658-0.j  0.        +0.j -0.57735027+0.j]\n",
      " [ 0.        +0.j  0.        +0.j  1.        +0.j  0.        +0.j]\n",
      " [ 0.        +0.j -0.57735027+0.j  0.        +0.j -0.81649658+0.j]] \n",
      "\n",
      "\n",
      "U6\n",
      " [[ 1.00000000e+00+0.j  0.00000000e+00+0.j  0.00000000e+00+0.j\n",
      "   0.00000000e+00+0.j]\n",
      " [ 0.00000000e+00+0.j  1.00000000e+00-0.j  0.00000000e+00-0.j\n",
      "   0.00000000e+00-0.j]\n",
      " [ 0.00000000e+00+0.j -2.22044605e-16-0.j  7.07106781e-01-0.j\n",
      "  -7.07106781e-01-0.j]\n",
      " [ 0.00000000e+00+0.j -2.22044605e-16-0.j -7.07106781e-01-0.j\n",
      "  -7.07106781e-01-0.j]] \n",
      "\n",
      "\n"
     ]
    }
   ],
   "source": [
    "# Prints the operator.        \n",
    "print('Operator being unfolded\\n\\n', G,'\\n\\n')\n",
    "print('Two level unitary gates\\n')\n",
    "i = 1\n",
    "for g in Unitary_gates:\n",
    "\n",
    "    # If the matrix is of size NxN, print the matrix.\n",
    "    if int(np.sqrt(g.size)) == N :\n",
    "\n",
    "        print('U'+str(i)+'\\n', g,'\\n\\n')\n",
    "\n",
    "    else:\n",
    "\n",
    "        # If the matrix is of lower size other than N, expand the matrix into a NxN\n",
    "        # matrix and print.\n",
    "        print('U'+str(i)+'\\n', Expand_Matrix(g, N),'\\n\\n')\n",
    "\n",
    "    i += 1    "
   ]
  },
  {
   "cell_type": "code",
   "execution_count": null,
   "id": "372e2743",
   "metadata": {},
   "outputs": [],
   "source": []
  },
  {
   "cell_type": "code",
   "execution_count": null,
   "id": "4a69ab9c",
   "metadata": {},
   "outputs": [],
   "source": []
  },
  {
   "cell_type": "code",
   "execution_count": null,
   "id": "331cb7ed",
   "metadata": {},
   "outputs": [],
   "source": []
  },
  {
   "cell_type": "code",
   "execution_count": null,
   "id": "be1683ba",
   "metadata": {},
   "outputs": [],
   "source": []
  },
  {
   "cell_type": "code",
   "execution_count": null,
   "id": "012c9971",
   "metadata": {},
   "outputs": [],
   "source": []
  }
 ],
 "metadata": {
  "kernelspec": {
   "display_name": "Python 3 (ipykernel)",
   "language": "python",
   "name": "python3"
  },
  "language_info": {
   "codemirror_mode": {
    "name": "ipython",
    "version": 3
   },
   "file_extension": ".py",
   "mimetype": "text/x-python",
   "name": "python",
   "nbconvert_exporter": "python",
   "pygments_lexer": "ipython3",
   "version": "3.9.7"
  }
 },
 "nbformat": 4,
 "nbformat_minor": 5
}
