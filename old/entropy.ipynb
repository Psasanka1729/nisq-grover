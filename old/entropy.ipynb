{
 "cells": [
  {
   "cell_type": "code",
   "execution_count": 124,
   "id": "1ea99ac1",
   "metadata": {},
   "outputs": [],
   "source": [
    "import numpy as np"
   ]
  },
  {
   "cell_type": "code",
   "execution_count": 125,
   "id": "6d2f939d",
   "metadata": {},
   "outputs": [],
   "source": [
    "# Number of qubits.\n",
    "N = 4\n",
    "\n",
    "L = N // 2 # Length of half cut number of qubits.\n",
    "\n",
    "'''\n",
    "Intiating a wave function with a lsit of size 2**N with all element as zeros.\n",
    "\n",
    "''' \n",
    "\n",
    "Psi_List = [0]*(2**N)"
   ]
  },
  {
   "cell_type": "code",
   "execution_count": 126,
   "id": "0ea7473b",
   "metadata": {},
   "outputs": [],
   "source": [
    "'''\n",
    "Enter the non-zero coefficients of the wavefunction psi.\n",
    "\n",
    "''' \n",
    "\n",
    "Psi_List[0] = 2/np.sqrt(13)\n",
    "Psi_List[2] = np.sqrt(2/13)\n",
    "Psi_List[4] = -1/np.sqrt(13)\n",
    "Psi_List[14] = np.sqrt(6/13)"
   ]
  },
  {
   "cell_type": "markdown",
   "id": "44823c89",
   "metadata": {},
   "source": [
    "Let $\\Psi$ be the given normalized wave function. Then $\\rho_{AB} = <\\Psi|\\Psi>$ is the density matrix of the subsystem $A$ and $B$, and $\\rho_{A} = Tr_{B}(\\rho_{AB})$.\n",
    "The $(s,s^{'})$ element of the reduced density matrix $\\rho_{A}$ is given by \n",
    "$$<s|\\rho_{A}|s^{'}> =\\sum_{s^{''}} <ss^{''}|\\rho_{AB}|s^{'}s^{''}>$$\n",
    "$$<s|\\rho_{A}|s^{'}> =\\sum_{s^{''}} <ss^{''}|\\psi><\\psi|s^{'}s^{''}>$$"
   ]
  },
  {
   "cell_type": "code",
   "execution_count": 127,
   "id": "add5b33a",
   "metadata": {},
   "outputs": [],
   "source": [
    "'''\n",
    "It is not necessary to input a normalized wave function. \n",
    "It will be normalized later so that trace(rho) = 1.\n",
    "\n",
    "'''\n",
    "\n",
    "# Converting the list to a numpy matrix.\n",
    "Psi = np.matrix(Psi_List).reshape(len(Psi),1) # Psi column matrix.\n",
    "\n",
    "# Normalizing Psi.\n",
    "Psi = Psi/np.linalg.norm(Psi)\n",
    "\n"
   ]
  },
  {
   "cell_type": "markdown",
   "id": "ac1a286d",
   "metadata": {},
   "source": [
    "$$\\psi_{s^{'}} = \\Psi[ 2^{L} s^{'} : 2^{L} s^{'}+2^{L}-1] $$"
   ]
  },
  {
   "cell_type": "code",
   "execution_count": 128,
   "id": "c048201b",
   "metadata": {},
   "outputs": [],
   "source": [
    "def psi(s):\n",
    "    return Psi[(2**L)*s:(2**L)*s + 2**L]"
   ]
  },
  {
   "cell_type": "markdown",
   "id": "b6b3a6ca",
   "metadata": {},
   "source": [
    "The elements of the matrix $\\rho_{A}$ is given by\n",
    "$$<s|\\rho_{A}|s^{'}> = \\psi^{\\dagger}_{s^{'}} \\psi_{s}$$"
   ]
  },
  {
   "cell_type": "code",
   "execution_count": 129,
   "id": "ef2faafa",
   "metadata": {},
   "outputs": [],
   "source": [
    "'''\n",
    "    psi(s_p) is a row matrix/vector. psi(s) is a column matrix/vector.      \n",
    "    Dimension of rhoA is N/2 x N/2. \n",
    "    The element <s|rhoA|sp> is given by psi_sp^\\dagger * psi_s.\n",
    "''' \n",
    "\n",
    "def rhoA(s,s_p): # <s|rho_A|s_p>\n",
    "    \n",
    "\n",
    "\n",
    "    # psi(s_p)^\\dagger * psi(s) is the element of (s,s_p) of rho_AB.  \n",
    "    return psi(s_p).getH() * psi(s)"
   ]
  },
  {
   "cell_type": "code",
   "execution_count": 130,
   "id": "e7ca1fe0",
   "metadata": {},
   "outputs": [],
   "source": [
    "def rhoA_Matrix(N):\n",
    "    \n",
    "    M = np.zeros((N,N)) # 0 to N-1.\n",
    "    \n",
    "    '''\n",
    "    rho is Hermitian, it is sufficient to calculate the elements above the diagonal.\n",
    "    The the elements below the diagonal can be replace by the complex cpnjugate of the\n",
    "    elements above the diagonal.\n",
    "    '''\n",
    "    for i in range(N):\n",
    "        for j in range(N):\n",
    "            \n",
    "            if i <= j : # Above the diagonal (i,j) i<j.\n",
    "                \n",
    "                M[i,j] = rhoA(i,j)[0,0]\n",
    "                \n",
    "            else: # Below the diagonal (i,j) i>j.\n",
    "                \n",
    "                M[i,j] = np.conjugate(M[j,i])\n",
    "    return M"
   ]
  },
  {
   "cell_type": "code",
   "execution_count": 131,
   "id": "3a5b1f28",
   "metadata": {},
   "outputs": [],
   "source": [
    "'''\n",
    "w is the diagonal of the diagonalized matrix rhoA.\n",
    "\n",
    "'''\n",
    "w, v = np.linalg.eig(rhoA_Matrix(N))"
   ]
  },
  {
   "cell_type": "code",
   "execution_count": 132,
   "id": "ea84c999",
   "metadata": {},
   "outputs": [
    {
     "name": "stdout",
     "output_type": "stream",
     "text": [
      "Entropy S =  0.5663916641767007\n"
     ]
    }
   ],
   "source": [
    "DL = np.zeros(N) # Creating an array for log w with zeros.\n",
    "\n",
    "'''\n",
    "The following loop calculates S = - sum \\lamba_i * log(\\lambda_i).\n",
    "\n",
    "'''\n",
    "\n",
    "for i in range(len(w)):\n",
    "    \n",
    "    if abs(w[i]) < 1.e-8: # log of zero gives nan.\n",
    "        \n",
    "        pass # Leave the log(zero) element as zero.\n",
    "    \n",
    "    else:\n",
    "        \n",
    "        DL[i] = np.log(w[i])\n",
    "        \n",
    "# Entropy = -Tr(rho * log(rho)).        \n",
    "print('Entropy S = ',-sum(w*DL))"
   ]
  },
  {
   "cell_type": "markdown",
   "id": "55ab46a6",
   "metadata": {},
   "source": [
    "## The rolling operator"
   ]
  },
  {
   "cell_type": "code",
   "execution_count": 163,
   "id": "a9c60182",
   "metadata": {},
   "outputs": [],
   "source": [
    "def Bin2Dec(BinaryNumber): # Converts binary to decimal numbers.\n",
    "    return int(str(BinaryNumber),2)\n",
    "\n",
    "def Dec2Bin(DecimalNumber): # Converts decimal to binary numbers.\n",
    "    return bin(DecimalNumber).replace(\"0b\", \"\")\n",
    "\n",
    "List = [i for i in range(2**N)]\n",
    "\n",
    "# This function converts all decimals from 0 to 2^N -1 in List to binary.\n",
    "def List_Bin(List):\n",
    "    \n",
    "    l = []\n",
    "    \n",
    "    for i in List:\n",
    "        \n",
    "        i_Bin = Dec2Bin(i)\n",
    "              \n",
    "        \n",
    "        '''\n",
    "        While converting numbers from decimal to binary, for example, 1 is mapped to 1, to make sure that\n",
    "        every numbers have N qubits in them, the following loop adds leading zeros to make the\n",
    "        length of the binary string equal to N. Now, 1 is mapped to 000.....1 (string of length N).\n",
    "        \n",
    "        '''\n",
    "        \n",
    "        while len(i_Bin) < N: \n",
    "            \n",
    "            i_Bin = '0'+i_Bin # This loop adds leading zeros.\n",
    "            \n",
    "        l.append(i_Bin)\n",
    "        \n",
    "    return l\n",
    "\n",
    "'''\n",
    "The following loop takes a binary string as input and rolls the qubits by one and returns the rolled string.\n",
    "\n",
    "'''\n",
    "def Roll_String(Binary_String):\n",
    "    \n",
    "    return Binary_String[-1] + Binary_String[:-1]\n",
    "\n",
    "\n",
    "def Psi_Rolled(Inital_Psi):\n",
    "    \n",
    "    l = [Roll_String(i) for i in List_Bin(List)] # Rolls every string in the list List by one qubit.\n",
    "\n",
    "    l_d = [Bin2Dec(i) for i in l] # Converts the rolled binary string to decimal number.\n",
    "\n",
    "\n",
    "    Psi_Rolled = []\n",
    "\n",
    "    for i in range(2**N):\n",
    "    \n",
    "        Psi_Rolled.append(Inital_Psi[l_d[i]])\n",
    "        \n",
    "    return Psi_Rolled\n",
    "\n",
    "def N_Rolled(N, Initial_Psi):\n",
    "    \n",
    "    s = Psi_Rolled(Initial_Psi)\n",
    "    \n",
    "    for i in range(N-1):\n",
    "        \n",
    "        s = Psi_Rolled(s)\n",
    "        \n",
    "    return s"
   ]
  },
  {
   "cell_type": "code",
   "execution_count": 164,
   "id": "09d45ed3",
   "metadata": {},
   "outputs": [],
   "source": []
  },
  {
   "cell_type": "code",
   "execution_count": 179,
   "id": "db786483",
   "metadata": {},
   "outputs": [
    {
     "data": {
      "text/plain": [
       "[0.5547001962252291,\n",
       " 0,\n",
       " 0.3922322702763681,\n",
       " 0,\n",
       " -0.2773500981126146,\n",
       " 0,\n",
       " 0,\n",
       " 0,\n",
       " 0,\n",
       " 0,\n",
       " 0,\n",
       " 0,\n",
       " 0,\n",
       " 0,\n",
       " 0.6793662204867574,\n",
       " 0]"
      ]
     },
     "execution_count": 179,
     "metadata": {},
     "output_type": "execute_result"
    }
   ],
   "source": [
    "N_Rolled(8, Psi_List)"
   ]
  }
 ],
 "metadata": {
  "kernelspec": {
   "display_name": "Python 3 (ipykernel)",
   "language": "python",
   "name": "python3"
  },
  "language_info": {
   "codemirror_mode": {
    "name": "ipython",
    "version": 3
   },
   "file_extension": ".py",
   "mimetype": "text/x-python",
   "name": "python",
   "nbconvert_exporter": "python",
   "pygments_lexer": "ipython3",
   "version": "3.9.7"
  }
 },
 "nbformat": 4,
 "nbformat_minor": 5
}
