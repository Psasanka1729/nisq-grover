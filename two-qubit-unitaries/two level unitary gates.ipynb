{
 "cells": [
  {
   "cell_type": "code",
   "execution_count": 1,
   "id": "98d863d5",
   "metadata": {},
   "outputs": [],
   "source": [
    "import numpy as np"
   ]
  },
  {
   "cell_type": "code",
   "execution_count": 15,
   "id": "d1a38f78",
   "metadata": {},
   "outputs": [],
   "source": [
    "def Reduction3(Matrix):\n",
    "    \n",
    "    Two_level_Universal_Gate = []\n",
    "    \n",
    "    Matrix_dim = 3 # 3x3 matrix.\n",
    "    \n",
    "    for i in range(1,Matrix_dim):\n",
    "    \n",
    "        if Matrix[i,0] == 0: # if b = 0.\n",
    "            \n",
    "            U = np.identity(3, dtype = complex) \n",
    "            \n",
    "            if i == 1: # U_1.\n",
    "        \n",
    "                pass\n",
    "            \n",
    "            else: # U_2.\n",
    "                \n",
    "                U.itemset((0,0), np.conjugate(Matrix[0,0]))\n",
    "        \n",
    "        else:\n",
    "        \n",
    "            a, b = Matrix[0,0], Matrix[i,0]\n",
    "\n",
    "            u00 = np.conjugate(a) / np.sqrt(np.absolute(a)**2 + np.absolute(b)**2)\n",
    "            u01 = np.conjugate(b) / np.sqrt(np.absolute(a)**2 + np.absolute(b)**2)\n",
    "            u10 = b / np.sqrt(np.absolute(a)**2 + np.absolute(b)**2)\n",
    "            u11 = - a / np.sqrt(np.absolute(a)**2 + np.absolute(b)**2)\n",
    "    \n",
    "            U = np.identity(Matrix_dim, dtype = complex)\n",
    "            U.itemset((0,0), u00)\n",
    "            U.itemset((0,i), u01)\n",
    "            U.itemset((i,0), u10)\n",
    "            U.itemset((i,i), u11) \n",
    "            \n",
    "        Two_level_Universal_Gate.append(U)\n",
    "        \n",
    "        Matrix = np.matmul(U, Matrix) # U_2*U_1*U.\n",
    "        \n",
    "    Two_level_Universal_Gate.append(np.conjugate(Matrix).transpose()) # U_3.\n",
    "        \n",
    "    return Two_level_Universal_Gate\n"
   ]
  },
  {
   "cell_type": "code",
   "execution_count": 13,
   "id": "1e5db19b",
   "metadata": {},
   "outputs": [],
   "source": [
    "'''\n",
    "\n",
    "    Function returns a matrix of size (N-1)x(N-1) from a matrix of size (N,N).\n",
    "    It excludes the zeroth row and the zeroth column.\n",
    "\n",
    "'''\n",
    "\n",
    "def Extract_subMatrix(Matrix):\n",
    "\n",
    "    N = int(np.sqrt(Matrix.size))\n",
    "    subMatrix = Matrix[1:N, 1:N]\n",
    "\n",
    "    return  subMatrix"
   ]
  },
  {
   "cell_type": "code",
   "execution_count": 16,
   "id": "513b8094",
   "metadata": {},
   "outputs": [],
   "source": [
    "def ReductionN(Matrix):\n",
    "\n",
    "    Two_Level_Universal_Gate = []\n",
    "    \n",
    "    # Extract the size of the input matrix.\n",
    "    Matrix_dim = int(np.sqrt(Matrix.size))\n",
    "\n",
    "    for i in range(1,Matrix_dim):\n",
    "\n",
    "        if Matrix[i,0] == 0:\n",
    "\n",
    "            U = np.identity(Matrix_dim, dtype = complex)\n",
    "\n",
    "            if i == 1:\n",
    "                \n",
    "                pass\n",
    "            \n",
    "            else:\n",
    "                \n",
    "                U.itemset((0,0), np.conjugate(Matrix[0,0]))\n",
    "\n",
    "        else:\n",
    "\n",
    "            a, b = Matrix[0,0], Matrix[i,0]\n",
    "\n",
    "            u00 = np.conjugate(a) / np.sqrt(np.absolute(a)**2 + np.absolute(b)**2)\n",
    "            u01 = np.conjugate(b) / np.sqrt(np.absolute(a)**2 + np.absolute(b)**2)\n",
    "            u10 = b / np.sqrt(np.absolute(a)**2 + np.absolute(b)**2)\n",
    "            u11 = - a / np.sqrt(np.absolute(a)**2 + np.absolute(b)**2)\n",
    "    \n",
    "            U = np.identity(Matrix_dim, dtype = complex)\n",
    "            U.itemset((0,0), u00)\n",
    "            U.itemset((0,i), u01)\n",
    "            U.itemset((i,0), u10)\n",
    "            U.itemset((i,i), u11)\n",
    "        \n",
    "        Two_Level_Universal_Gate.append(U)\n",
    "\n",
    "        # Calculating the product of all the U matrices with G.\n",
    "\n",
    "        Matrix = np.matmul(U, Matrix)\n",
    "\n",
    "    return Two_Level_Universal_Gate, Matrix"
   ]
  },
  {
   "cell_type": "code",
   "execution_count": 5,
   "id": "aea988ad",
   "metadata": {},
   "outputs": [],
   "source": [
    "J = np.exp(2*np.pi*1j/3)\n",
    "J_bar = np.exp(-2*np.pi*1j/3)\n",
    "D = np.matrix([[1,1,1], [1,J,J_bar],[1,J_bar,J]])/np.sqrt(3)"
   ]
  },
  {
   "cell_type": "code",
   "execution_count": 14,
   "id": "b6a7f9cc",
   "metadata": {},
   "outputs": [
    {
     "data": {
      "text/plain": [
       "matrix([[-0.28867513+0.5j, -0.28867513-0.5j],\n",
       "        [-0.28867513-0.5j, -0.28867513+0.5j]])"
      ]
     },
     "execution_count": 14,
     "metadata": {},
     "output_type": "execute_result"
    }
   ],
   "source": [
    "Extract_subMatrix(D)"
   ]
  }
 ],
 "metadata": {
  "kernelspec": {
   "display_name": "Python 3 (ipykernel)",
   "language": "python",
   "name": "python3"
  },
  "language_info": {
   "codemirror_mode": {
    "name": "ipython",
    "version": 3
   },
   "file_extension": ".py",
   "mimetype": "text/x-python",
   "name": "python",
   "nbconvert_exporter": "python",
   "pygments_lexer": "ipython3",
   "version": "3.9.7"
  }
 },
 "nbformat": 4,
 "nbformat_minor": 5
}
