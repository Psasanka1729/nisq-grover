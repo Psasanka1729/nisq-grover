{
 "cells": [
  {
   "cell_type": "code",
   "execution_count": 1,
   "id": "a4bcb55d",
   "metadata": {},
   "outputs": [],
   "source": [
    "#!/usr/bin/env python\n",
    "# coding: utf-8\n",
    "import numpy as np\n",
    "from numpy.linalg import matrix_power"
   ]
  },
  {
   "cell_type": "code",
   "execution_count": 2,
   "id": "9d030be5",
   "metadata": {},
   "outputs": [],
   "source": [
    "Target_state = '000000'"
   ]
  },
  {
   "cell_type": "code",
   "execution_count": 3,
   "id": "21b5f705",
   "metadata": {},
   "outputs": [],
   "source": [
    "# First we note the length of N.\n",
    "L = len(Target_state)\n",
    "\n",
    "N = 2**L\n",
    "\n",
    "# Then an identity matrix is created with the size 2**N with signs reversed.\n",
    "U_w = - np.identity(2 ** L, dtype=complex)\n",
    "\n",
    "\n",
    "# Then the sign of the element corresponding to the target state is flipped. To do that we first convert the\n",
    "# target state from binary to decimal number. \n",
    "Target_index = int(Target_state, 2)\n",
    "\n",
    "## The position of the target state is set as 1.\n",
    "U_w.itemset((Target_index, Target_index),1)"
   ]
  },
  {
   "cell_type": "code",
   "execution_count": 4,
   "id": "3786b2fd",
   "metadata": {},
   "outputs": [
    {
     "name": "stdout",
     "output_type": "stream",
     "text": [
      "The Grover operator for the target state |w > = | 000000 > is \n",
      "\n",
      " [[-0.96875  0.03125  0.03125 ...  0.03125  0.03125  0.03125]\n",
      " [-0.03125  0.96875 -0.03125 ... -0.03125 -0.03125 -0.03125]\n",
      " [-0.03125 -0.03125  0.96875 ... -0.03125 -0.03125 -0.03125]\n",
      " ...\n",
      " [-0.03125 -0.03125 -0.03125 ...  0.96875 -0.03125 -0.03125]\n",
      " [-0.03125 -0.03125 -0.03125 ... -0.03125  0.96875 -0.03125]\n",
      " [-0.03125 -0.03125 -0.03125 ... -0.03125 -0.03125  0.96875]]\n"
     ]
    }
   ],
   "source": [
    "## We will first create a matrix with all elements 1. This is |psi><psi| = A(say).\n",
    "A = np.ones((2**L, 2**L))\n",
    "\n",
    "## U_s = 2\\(2**N)2|psi><psi| - I\n",
    "U_s = (2/(2**L))*A - np.identity(2**L)\n",
    "\n",
    "## G is the Grover operator.\n",
    "G = np.matmul(U_w, U_s)\n",
    "\n",
    "\n",
    "print('The Grover operator for the target state |w > = | '+Target_state + ' > is \\n\\n',G.real)"
   ]
  },
  {
   "cell_type": "code",
   "execution_count": 5,
   "id": "fa286375",
   "metadata": {},
   "outputs": [],
   "source": [
    "Num_iteration = int(np.pi/4 * np.sqrt(N))"
   ]
  },
  {
   "cell_type": "markdown",
   "id": "87d8bc08",
   "metadata": {},
   "source": [
    "The operator we will unfold into two qubit gates is $$ G = (2( |\\psi><\\psi|-I)O)^M $$"
   ]
  },
  {
   "cell_type": "code",
   "execution_count": 6,
   "id": "58e51148",
   "metadata": {},
   "outputs": [],
   "source": [
    "#G = matrix_power(V,Num_iteration)"
   ]
  },
  {
   "cell_type": "markdown",
   "id": "057216b1",
   "metadata": {},
   "source": [
    "The following function calculates two level unitary matrices for a matrix of size\n",
    "greater than 3, returns a ordered pair of list\n",
    " of matrices U and the final product of all the U matrices.\n",
    " Following the algorithm given in Nielsen, M.A. and Chuang."
   ]
  },
  {
   "cell_type": "code",
   "execution_count": 7,
   "id": "d6d3adc5",
   "metadata": {},
   "outputs": [],
   "source": [
    "def ReductionN(Matrix):\n",
    "\n",
    "    Two_Level_Universal_Gate = []\n",
    "    \n",
    "    # Extract the size of the input matrix.\n",
    "    Matrix_dim = int(np.sqrt(Matrix.size))\n",
    "\n",
    "    for i in range(1,Matrix_dim):\n",
    "\n",
    "        if Matrix[i,0] == 0:\n",
    "\n",
    "            U = np.identity(Matrix_dim, dtype = complex)\n",
    "\n",
    "            if i == 1:\n",
    "                pass\n",
    "            else:\n",
    "                U.itemset((0,0), np.conjugate(Matrix[0,0]))\n",
    "\n",
    "        else:\n",
    "\n",
    "            a, b = Matrix[0,0], Matrix[i,0]\n",
    "\n",
    "            u00 = np.conjugate(a) / np.sqrt(np.absolute(a)**2 + np.absolute(b)**2)\n",
    "            u01 = np.conjugate(b) / np.sqrt(np.absolute(a)**2 + np.absolute(b)**2)\n",
    "            u10 = b / np.sqrt(np.absolute(a)**2 + np.absolute(b)**2)\n",
    "            u11 = - a / np.sqrt(np.absolute(a)**2 + np.absolute(b)**2)\n",
    "    \n",
    "            U = np.identity(Matrix_dim, dtype = complex)\n",
    "            U.itemset((0,0), u00)\n",
    "            U.itemset((0,i), u01)\n",
    "            U.itemset((i,0), u10)\n",
    "            U.itemset((i,i), u11)\n",
    "        \n",
    "        Two_Level_Universal_Gate.append(U)\n",
    "\n",
    "        # Calculating the product of all the U matrices with G.\n",
    "\n",
    "        Matrix = np.matmul(U, Matrix)\n",
    "\n",
    "    return Two_Level_Universal_Gate, Matrix"
   ]
  },
  {
   "cell_type": "markdown",
   "id": "f5bf8ac0",
   "metadata": {},
   "source": [
    "Function calculates two level unitary matrices for a 3x3 matrix.\n",
    "    Returns a list containing the two level matrices.\n",
    "    The function will be called reduced as it put zeros in the first \n",
    "    column and the first row.In what follows, the final matrix product\n",
    "    will be called reduced matrix."
   ]
  },
  {
   "cell_type": "code",
   "execution_count": 8,
   "id": "46293e9c",
   "metadata": {},
   "outputs": [],
   "source": [
    "def Reduction3(Matrix):\n",
    "\n",
    "    Two_Level_Universal_Gate = []\n",
    "    \n",
    "    # Size of the matrix is 3.\n",
    "    Matrix_dim = 3\n",
    " \n",
    "    for i in range(1,Matrix_dim):\n",
    "\n",
    "        '''\n",
    "            If the (1,0) element is 0, then U_1 = identity matrix.\n",
    "        \n",
    "        '''\n",
    "        \n",
    "        if Matrix[i,0] == 0:\n",
    "\n",
    "            U = np.identity(Matrix_dim, dtype = complex) # U_1 is identity.\n",
    "\n",
    "            # For the first iteration it is identity.\n",
    "            if i == 1:\n",
    "                \n",
    "                pass\n",
    "            \n",
    "            else:\n",
    "                \n",
    "                U.itemset((0,0), np.conjugate(Matrix[0,0]))\n",
    "\n",
    "        else:\n",
    "\n",
    "            a, b = Matrix[0,0], Matrix[i,0]\n",
    "\n",
    "            u00 = np.conjugate(a) / np.sqrt(np.absolute(a)**2 \\\n",
    "                + np.absolute(b)**2)\n",
    "            u01 = np.conjugate(b) / np.sqrt(np.absolute(a)**2 \\\n",
    "                + np.absolute(b)**2)\n",
    "            u10 = b / np.sqrt(np.absolute(a)**2 + np.absolute(b)**2)\n",
    "            u11 = - a / np.sqrt(np.absolute(a)**2 + np.absolute(b)**2)\n",
    "    \n",
    "            U = np.identity(Matrix_dim, dtype = complex)\n",
    "            U.itemset((0,0), u00)\n",
    "            U.itemset((0,i), u01)\n",
    "            U.itemset((i,0), u10)\n",
    "            U.itemset((i,i), u11)\n",
    "        \n",
    "        Two_Level_Universal_Gate.append(U)\n",
    "\n",
    "        # Calculating product of all the U matrices with G.\n",
    "        Matrix = np.matmul(U, Matrix)\n",
    "\n",
    "    # U3 is calculated sepatarely.\n",
    "    Two_Level_Universal_Gate.append(np.conjugate(Matrix).transpose())\n",
    "\n",
    "    return Two_Level_Universal_Gate"
   ]
  },
  {
   "cell_type": "markdown",
   "id": "6cf24c5f",
   "metadata": {},
   "source": [
    "The following function returns a sub matrix with one dimension lower than the input matrix."
   ]
  },
  {
   "cell_type": "code",
   "execution_count": 9,
   "id": "62c78fca",
   "metadata": {},
   "outputs": [],
   "source": [
    "def Extract_subMatrix(Matrix):\n",
    "\n",
    "    Matrix_size = int(np.sqrt(Matrix.size))\n",
    "    subMatrix = Matrix[1:Matrix_size, 1:Matrix_size]\n",
    "\n",
    "    return  subMatrix"
   ]
  },
  {
   "cell_type": "markdown",
   "id": "ac69c860",
   "metadata": {},
   "source": [
    "The following function expands a given matrix to a required size."
   ]
  },
  {
   "cell_type": "code",
   "execution_count": 10,
   "id": "798c34a3",
   "metadata": {},
   "outputs": [],
   "source": [
    "def Expand_Matrix(Matrix, Required_Size):\n",
    "\n",
    "    # Intital size of the input matrix.\n",
    "    Initial_Size = int(np.sqrt(Matrix.size))\n",
    "\n",
    "    # Creating an initial identity matrix.\n",
    "    M = np.identity(Required_Size, dtype = complex)\n",
    "\n",
    "    # Size difference between the two matrics.\n",
    "    Sz = Required_Size - Initial_Size\n",
    "\n",
    "    # The elements from the old matrix is added to M, other row and column are part of\n",
    "    # identity matrix, this gurantees that the matrix is a two level unitary matrix.\n",
    "\n",
    "    for i in range(Sz, Required_Size):\n",
    "        \n",
    "        for j in range(Sz, Required_Size):\n",
    "            \n",
    "            M.itemset((i,j), Matrix[i-Sz,j-Sz])\n",
    "\n",
    "    return M"
   ]
  },
  {
   "cell_type": "code",
   "execution_count": 11,
   "id": "199691a4",
   "metadata": {},
   "outputs": [
    {
     "data": {
      "text/plain": [
       "64"
      ]
     },
     "execution_count": 11,
     "metadata": {},
     "output_type": "execute_result"
    }
   ],
   "source": [
    "N"
   ]
  },
  {
   "cell_type": "markdown",
   "id": "31b0f56b",
   "metadata": {},
   "source": [
    "This loop will calculate the two level unitary matrices using the functions described above."
   ]
  },
  {
   "cell_type": "code",
   "execution_count": 12,
   "id": "459fcd34",
   "metadata": {},
   "outputs": [],
   "source": [
    "def Reduce(Matrix):\n",
    "    # This list will contain all the two level unitary gates.\n",
    "    Unitary_gates = []\n",
    "\n",
    "    Last_Reduced_Matrix = []\n",
    "\n",
    "    for i in range(N, 2, -1): # Loop from N to 3.\n",
    "    \n",
    "    \n",
    "        # 3x3 matrices are treated separetely with CReduction3(Matrix).\n",
    "        if i == 3:\n",
    "        \n",
    "            M = Last_Reduced_Matrix[-1]\n",
    "\n",
    "            for g in Reduction3(M):\n",
    "            \n",
    "                Unitary_gates.append(g)\n",
    "\n",
    "        # First iteration, start with original matrix G.\n",
    "        elif i == N:\n",
    "\n",
    "            M = Matrix\n",
    "            \n",
    "            for g in ReductionN(M)[0]: # List of two level gates.\n",
    "            \n",
    "                Unitary_gates.append(g)\n",
    "\n",
    "        \n",
    "            # The reduced submatrix is put into the list to use in the next loop.\n",
    "            Last_Reduced_Matrix.append(Extract_subMatrix(ReductionN(M)[1]))\n",
    "            #print(Last_Reduced_Matrix)\n",
    "        \n",
    "        else:\n",
    "        \n",
    "            # Any other dimension is reduced with CReductionN(Matrix).\n",
    "            M = Last_Reduced_Matrix[-1]\n",
    "\n",
    "            for g in ReductionN(M)[0]:\n",
    "            \n",
    "                Unitary_gates.append(g)   \n",
    "\n",
    "            # The reduced submatrix is put into the list to use in the next loop.\n",
    "            Last_Reduced_Matrix.append(Extract_subMatrix(ReductionN(M)[1]))        \n",
    "            #print(Last_Reduced_Matrix)\n",
    "    return Unitary_gates"
   ]
  },
  {
   "cell_type": "code",
   "execution_count": null,
   "id": "880e743f",
   "metadata": {},
   "outputs": [],
   "source": []
  },
  {
   "cell_type": "markdown",
   "id": "cdc56e98",
   "metadata": {},
   "source": [
    "Prints all the two level unitary gates."
   ]
  },
  {
   "cell_type": "code",
   "execution_count": 13,
   "id": "2b6afb2e",
   "metadata": {},
   "outputs": [],
   "source": [
    "def Unfold(Matrix):\n",
    "    \n",
    "    Gates = []\n",
    "    i = 1\n",
    "    for g in Reduce(Matrix):\n",
    "\n",
    "        # If the matrix is of size NxN, print the matrix.\n",
    "        if int(np.sqrt(g.size)) == N :\n",
    "            \n",
    "            Gates.append([\"U\"+str(i), g])\n",
    "            #print('U'+str(i)+'\\n', g,'\\n\\n')\n",
    "\n",
    "        else:\n",
    "\n",
    "            # If the matrix is of lower size other than N, expand the matrix into a NxN\n",
    "            # matrix and print.\n",
    "            \n",
    "            Gates.append([\"U\"+str(i), Expand_Matrix(g, N) ])\n",
    "            #print('U'+str(i)+'\\n', Expand_Matrix(g, N),'\\n\\n')\n",
    "\n",
    "        i += 1\n",
    "        \n",
    "    return Gates"
   ]
  },
  {
   "cell_type": "code",
   "execution_count": null,
   "id": "bb443023",
   "metadata": {},
   "outputs": [],
   "source": []
  },
  {
   "cell_type": "code",
   "execution_count": 16,
   "id": "8b36494f",
   "metadata": {},
   "outputs": [],
   "source": [
    "K = Unfold(G)\n",
    "F = np.identity(N, dtype=complex)\n",
    "#for i in range(len(K)):\n",
    "    #F = np.matmul(F,np.matrix(K[i][1]).getH())"
   ]
  },
  {
   "cell_type": "code",
   "execution_count": 19,
   "id": "41d98822",
   "metadata": {},
   "outputs": [
    {
     "data": {
      "text/plain": [
       "2016"
      ]
     },
     "execution_count": 19,
     "metadata": {},
     "output_type": "execute_result"
    }
   ],
   "source": [
    "len(K)"
   ]
  }
 ],
 "metadata": {
  "kernelspec": {
   "display_name": "Python 3 (ipykernel)",
   "language": "python",
   "name": "python3"
  },
  "language_info": {
   "codemirror_mode": {
    "name": "ipython",
    "version": 3
   },
   "file_extension": ".py",
   "mimetype": "text/x-python",
   "name": "python",
   "nbconvert_exporter": "python",
   "pygments_lexer": "ipython3",
   "version": "3.9.7"
  }
 },
 "nbformat": 4,
 "nbformat_minor": 5
}
