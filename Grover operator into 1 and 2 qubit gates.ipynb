{
 "cells": [
  {
   "cell_type": "code",
   "execution_count": 1039,
   "id": "786d44ad",
   "metadata": {},
   "outputs": [],
   "source": [
    "from qiskit import *\n",
    "from qiskit import Aer\n",
    "import qiskit.quantum_info as qi\n",
    "import numpy as np\n",
    "from math import pi\n",
    "import matplotlib.pyplot as plt\n",
    "import re\n",
    "import csv\n",
    "import time\n",
    "start = time.time()"
   ]
  },
  {
   "cell_type": "markdown",
   "id": "5ee55931",
   "metadata": {},
   "source": [
    "### Target state $|w>$"
   ]
  },
  {
   "cell_type": "code",
   "execution_count": 1040,
   "id": "8d00e814",
   "metadata": {},
   "outputs": [],
   "source": [
    "Target_state = '0100'"
   ]
  },
  {
   "cell_type": "markdown",
   "id": "48590116",
   "metadata": {},
   "source": [
    "## Setting up the The Grover operator\n",
    "$$ G = U_w U_s$$\n",
    "Where \n",
    "$$U_w = 2|w><w| - I$$ \n",
    "$U_w$ is a matrix with the position of the target state 1 and all its diagnoal elements are -1 and rest all zero."
   ]
  },
  {
   "cell_type": "code",
   "execution_count": 1041,
   "id": "c1734855",
   "metadata": {},
   "outputs": [],
   "source": [
    "# First we note the length of N.\n",
    "N = len(Target_state)\n",
    "\n",
    "# Then an identity matrix is created with the size 2**N with signs reversed.\n",
    "U_w = - np.identity(2 ** N, dtype=complex)\n",
    "\n",
    "\n",
    "# Then the sign of the element corresponding to the target state is flipped. To do that we first convert the\n",
    "# target state from binary to decimal number. \n",
    "Target_index = int(Target_state, 2)\n",
    "\n",
    "## The position of the target state is set as 1.\n",
    "U_w.itemset((Target_index, Target_index),1)"
   ]
  },
  {
   "cell_type": "code",
   "execution_count": 1042,
   "id": "f5d61252",
   "metadata": {},
   "outputs": [
    {
     "data": {
      "text/plain": [
       "4"
      ]
     },
     "execution_count": 1042,
     "metadata": {},
     "output_type": "execute_result"
    }
   ],
   "source": [
    "N"
   ]
  },
  {
   "cell_type": "markdown",
   "id": "dd662d17",
   "metadata": {},
   "source": [
    "$$ U_s = 2|s><s| - I $$\n",
    "Where $$ |s> = \\frac{1}{\\sqrt{2^N}} \\sum_{x} |x>$$\n",
    "$2|s><s|$ is a matrix with all its elements $\\frac{2}{2^N}$. "
   ]
  },
  {
   "cell_type": "code",
   "execution_count": 1043,
   "id": "c8ddc116",
   "metadata": {},
   "outputs": [
    {
     "name": "stdout",
     "output_type": "stream",
     "text": [
      "The Grover operator G = \n",
      " [[ 0.875 -0.125 -0.125 -0.125 -0.125 -0.125 -0.125 -0.125 -0.125 -0.125\n",
      "  -0.125 -0.125 -0.125 -0.125 -0.125 -0.125]\n",
      " [-0.125  0.875 -0.125 -0.125 -0.125 -0.125 -0.125 -0.125 -0.125 -0.125\n",
      "  -0.125 -0.125 -0.125 -0.125 -0.125 -0.125]\n",
      " [-0.125 -0.125  0.875 -0.125 -0.125 -0.125 -0.125 -0.125 -0.125 -0.125\n",
      "  -0.125 -0.125 -0.125 -0.125 -0.125 -0.125]\n",
      " [-0.125 -0.125 -0.125  0.875 -0.125 -0.125 -0.125 -0.125 -0.125 -0.125\n",
      "  -0.125 -0.125 -0.125 -0.125 -0.125 -0.125]\n",
      " [ 0.125  0.125  0.125  0.125 -0.875  0.125  0.125  0.125  0.125  0.125\n",
      "   0.125  0.125  0.125  0.125  0.125  0.125]\n",
      " [-0.125 -0.125 -0.125 -0.125 -0.125  0.875 -0.125 -0.125 -0.125 -0.125\n",
      "  -0.125 -0.125 -0.125 -0.125 -0.125 -0.125]\n",
      " [-0.125 -0.125 -0.125 -0.125 -0.125 -0.125  0.875 -0.125 -0.125 -0.125\n",
      "  -0.125 -0.125 -0.125 -0.125 -0.125 -0.125]\n",
      " [-0.125 -0.125 -0.125 -0.125 -0.125 -0.125 -0.125  0.875 -0.125 -0.125\n",
      "  -0.125 -0.125 -0.125 -0.125 -0.125 -0.125]\n",
      " [-0.125 -0.125 -0.125 -0.125 -0.125 -0.125 -0.125 -0.125  0.875 -0.125\n",
      "  -0.125 -0.125 -0.125 -0.125 -0.125 -0.125]\n",
      " [-0.125 -0.125 -0.125 -0.125 -0.125 -0.125 -0.125 -0.125 -0.125  0.875\n",
      "  -0.125 -0.125 -0.125 -0.125 -0.125 -0.125]\n",
      " [-0.125 -0.125 -0.125 -0.125 -0.125 -0.125 -0.125 -0.125 -0.125 -0.125\n",
      "   0.875 -0.125 -0.125 -0.125 -0.125 -0.125]\n",
      " [-0.125 -0.125 -0.125 -0.125 -0.125 -0.125 -0.125 -0.125 -0.125 -0.125\n",
      "  -0.125  0.875 -0.125 -0.125 -0.125 -0.125]\n",
      " [-0.125 -0.125 -0.125 -0.125 -0.125 -0.125 -0.125 -0.125 -0.125 -0.125\n",
      "  -0.125 -0.125  0.875 -0.125 -0.125 -0.125]\n",
      " [-0.125 -0.125 -0.125 -0.125 -0.125 -0.125 -0.125 -0.125 -0.125 -0.125\n",
      "  -0.125 -0.125 -0.125  0.875 -0.125 -0.125]\n",
      " [-0.125 -0.125 -0.125 -0.125 -0.125 -0.125 -0.125 -0.125 -0.125 -0.125\n",
      "  -0.125 -0.125 -0.125 -0.125  0.875 -0.125]\n",
      " [-0.125 -0.125 -0.125 -0.125 -0.125 -0.125 -0.125 -0.125 -0.125 -0.125\n",
      "  -0.125 -0.125 -0.125 -0.125 -0.125  0.875]]\n"
     ]
    }
   ],
   "source": [
    "## We will first create a matrix with all elements 1. This is |psi><psi| =. A(say).\n",
    "A = np.ones((2**N, 2**N))\n",
    "\n",
    "## U_s = 2\\(2**N)2|s><s| - I\n",
    "U_s = (2/(2**N))*A - np.identity(2**N, dtype = complex)\n",
    "\n",
    "## G is the Grover operator.\n",
    "G = np.matmul(U_w, U_s)\n",
    "\n",
    "\n",
    "print('The Grover operator G = \\n',G.real)"
   ]
  },
  {
   "cell_type": "code",
   "execution_count": null,
   "id": "9911bc49",
   "metadata": {},
   "outputs": [],
   "source": []
  },
  {
   "cell_type": "code",
   "execution_count": 1044,
   "id": "c2c1ef18",
   "metadata": {},
   "outputs": [
    {
     "data": {
      "image/png": "[encoded data removed]",
      "text/plain": [
       "<Figure size 206.997x264.88 with 1 Axes>"
      ]
     },
     "execution_count": 1044,
     "metadata": {},
     "output_type": "execute_result"
    }
   ],
   "source": [
    "qc = QuantumCircuit(N)\n",
    "qc.unitary(U_w,[i for i in range(N)])\n",
    "qc.draw('mpl')"
   ]
  },
  {
   "cell_type": "markdown",
   "id": "8493c92d",
   "metadata": {},
   "source": [
    "### We choose the basis gates as $Rz, CNOT$ and $H$"
   ]
  },
  {
   "cell_type": "code",
   "execution_count": 1045,
   "id": "9310c0f8",
   "metadata": {},
   "outputs": [],
   "source": [
    "# The following line unfold the input matrix using 'transpile'. We will use rz,cx and h gate as our basis.\n",
    "trans_qc = transpile(qc, basis_gates = ['id', 'rz', 'cx','h'], optimization_level = 1)\n",
    "#trans_qc.draw('mpl')"
   ]
  },
  {
   "cell_type": "markdown",
   "id": "7d6a81bc",
   "metadata": {},
   "source": [
    "### Writing $1$ and $2$ qubit gates as human readable format.\n",
    "The following loop puts the gates in a text file."
   ]
  },
  {
   "cell_type": "code",
   "execution_count": 1046,
   "id": "5544a835",
   "metadata": {},
   "outputs": [
    {
     "name": "stdout",
     "output_type": "stream",
     "text": [
      "Total gates used =  994 \n",
      "Number of Rz gates = 744 \n",
      "Number of Hadamard gates = 166 \n",
      "Number of CNOT gates = 84\n"
     ]
    }
   ],
   "source": [
    "## (Instruction(name='rz', num_qubits=1, num_clbits=0, params=[0.9817477042468101]),\n",
    "#[Qubit(QuantumRegister(3, 'q'), 0)], [])\n",
    "\n",
    "## (Instruction(name='h', num_qubits=1, num_clbits=0, params=[]), [Qubit(QuantumRegister(3, 'q'), 0)], [])\n",
    "\n",
    "## (Instruction(name='cx', num_qubits=2, num_clbits=0, params=[]),\n",
    "#[Qubit(QuantumRegister(3, 'q'), 1), Qubit(QuantumRegister(3, 'q'), 0)], [])\n",
    "\n",
    "f = trans_qc\n",
    "def List_Gates(Gate_Number):\n",
    "    \n",
    "    \n",
    "    ## The list will hold string along with the angles in case of u3.\n",
    "    l = []\n",
    "    \n",
    "    Name_of_Gate = []\n",
    "    \n",
    "    ## The list will hold the qubit in case of u3.\n",
    "    Qubit = []    \n",
    "    \n",
    "    ## The list will hold the numerical value (float) of the angle in case of u3.\n",
    "    Angle = []\n",
    "\n",
    "    ## The following two lines will be used to separate the numerical value of the angle from \n",
    "    # a mixture of string and digits.\n",
    "    numeric_const_pattern = '[-+]? (?: (?: \\d* \\. \\d+ ) | (?: \\d+ \\.? ) )(?: [Ee] [+-]? \\d+ )?'\n",
    "    \n",
    "    rx = re.compile(numeric_const_pattern, re.VERBOSE)\n",
    "    \n",
    "    if str(trans_qc[Gate_Number][0]).split(',')[0][-3:-1] == 'rz':\n",
    "        \n",
    "        Name_of_Gate.append('rz')        \n",
    "        ## For the gate rz, there is one angle. The following lines puts the string which contain\n",
    "        # the angle along with other alphabets in a list l.\n",
    "        l.append(str(list(f)[Gate_Number]).split(',')[3])\n",
    "\n",
    "        \n",
    "        ## The following loop extracts the angle from the string of alphabet and digit.\n",
    "        for i in l:\n",
    "            \n",
    "            if rx.findall(i) == []:\n",
    "                \n",
    "                ## the angle zero is written as 0.0 .\n",
    "                Angle.append(0.0)\n",
    "                \n",
    "            else:\n",
    "                \n",
    "                Angle.append(float(rx.findall(i)[0]))\n",
    "                \n",
    "        ## the qubit on which rz acts is listed.        \n",
    "        Qubit.append(re.sub(\"\\D\", \"\", str(trans_qc[Gate_Number][1]).split(',')[2]))  \n",
    "        \n",
    "    # For hadamard gates the qubit it is applied to is listed.    \n",
    "    elif str(trans_qc[Gate_Number][0]).split(',')[0][-2:-1] == 'h':\n",
    "        \n",
    "        Name_of_Gate.append('h')\n",
    "        Qubit.append(re.sub(\"\\D\", \"\", str(trans_qc[Gate_Number][1]).split(',')[2]))\n",
    "    \n",
    "    \n",
    "        ## if the gate is cx then the Angle list is empty.        \n",
    "    else:\n",
    "        \n",
    "        Name_of_Gate.append('cx')     \n",
    "        ## the control and the target bit is listed.\n",
    "        Control_bit = re.sub(\"\\D\", '', str(trans_qc[Gate_Number][1][0]).split(',')[2])\n",
    "        \n",
    "        Target_bit = re.sub(\"\\D\", '', str(trans_qc[Gate_Number][1][1]).split(',')[2])   \n",
    "        \n",
    "        Qubit.append([Control_bit, Target_bit])\n",
    "    \n",
    "    \n",
    "    return Name_of_Gate,Angle, Qubit\n",
    "\n",
    "\n",
    "\n",
    "# The following list has all the gates in the format [name of the gate, angle, qubit].\n",
    "l = []\n",
    "for i in range(len(f)):\n",
    "    l.append(List_Gates(i))      \n",
    "\n",
    "## To view the gates, open the following text file.    \n",
    "file = open('gates_list.txt', 'w')\n",
    "\n",
    "\n",
    "# The following variables will count number of each gates.\n",
    "rz_count = 0\n",
    "h_count = 0\n",
    "cx_count = 0\n",
    "\n",
    "\n",
    "## The following loop writes the gates into the file.\n",
    "for i in range(len(l)):\n",
    "    \n",
    "    if l[i][0][0] == 'rz':\n",
    "        \n",
    "        file.write('rz'+','+str(l[i][1][0])+','+str(l[i][2][0])+','+'\\n')\n",
    "        \n",
    "        rz_count += 1\n",
    "        \n",
    "    elif l[i][0][0] == 'h':\n",
    "        \n",
    "        file.write('h'+','+'0.0'+','+str(l[i][2][0])+','+'\\n')\n",
    "        \n",
    "        h_count += 1\n",
    "        \n",
    "    else:\n",
    "        \n",
    "        file.write('cx'+','+l[i][2][0][0]+','+l[i][2][0][1]+','+'\\n')\n",
    "        \n",
    "        cx_count += 1\n",
    "\n",
    "print(\n",
    "    'Total gates used = ',len(l),'\\n' \\\n",
    "      'Number of Rz gates =', rz_count,'\\n'\\\n",
    "      'Number of Hadamard gates =', h_count,'\\n'\\\n",
    "      'Number of CNOT gates =', cx_count\n",
    "        )   \n",
    "Rz_Number = rz_count"
   ]
  },
  {
   "cell_type": "markdown",
   "id": "fd2df2fe",
   "metadata": {},
   "source": [
    "## The basis gates"
   ]
  },
  {
   "cell_type": "markdown",
   "id": "e4aedf14",
   "metadata": {},
   "source": [
    "### Hadamard gate"
   ]
  },
  {
   "cell_type": "code",
   "execution_count": 1047,
   "id": "527f278b",
   "metadata": {},
   "outputs": [],
   "source": [
    "## The dimension of the matrix is fixed by the number of qubits.\n",
    "def Hadamard(Qubit):\n",
    "    \n",
    "    ## Changing the simulator \n",
    "    backend = Aer.get_backend('unitary_simulator')\n",
    "\n",
    "    ## The circuit without measurement\n",
    "    circ = QuantumCircuit(N)\n",
    "    circ.h(Qubit)\n",
    "\n",
    "    ## job execution and getting the result as an object\n",
    "    job = execute(circ, backend)\n",
    "    result = job.result()\n",
    "\n",
    "    ## get the unitary matrix from the result object\n",
    "    return result.get_unitary(circ)"
   ]
  },
  {
   "cell_type": "markdown",
   "id": "7155b57d",
   "metadata": {},
   "source": [
    "### CNOT gate"
   ]
  },
  {
   "cell_type": "code",
   "execution_count": 1048,
   "id": "9b0662d1",
   "metadata": {},
   "outputs": [],
   "source": [
    "## The dimension of the matrix is fixed by the number of qubits.\n",
    "def C_not(t,c):\n",
    "    ## Changing the simulator \n",
    "    backend = Aer.get_backend('unitary_simulator')\n",
    "\n",
    "    ## The circuit without measurement\n",
    "    circ = QuantumCircuit(N)\n",
    "    circ.cx(t,c)\n",
    "\n",
    "    ## job execution and getting the result as an object\n",
    "    job = execute(circ, backend)\n",
    "    result = job.result()\n",
    "\n",
    "    ## get the unitary matrix from the result object\n",
    "    return result.get_unitary(circ) "
   ]
  },
  {
   "cell_type": "markdown",
   "id": "9132dca6",
   "metadata": {},
   "source": [
    "### RZ gate"
   ]
  },
  {
   "cell_type": "code",
   "execution_count": 1049,
   "id": "d34a3ecf",
   "metadata": {},
   "outputs": [],
   "source": [
    "def Rz(Angle, Qubit):\n",
    "    ## Changing the simulator \n",
    "    backend = Aer.get_backend('unitary_simulator')\n",
    "\n",
    "    ## The circuit without measurement\n",
    "    circ = QuantumCircuit(N)\n",
    "    circ.rz(Angle, Qubit)\n",
    "\n",
    "    ## job execution and getting the result as an object\n",
    "    job = execute(circ, backend)\n",
    "    result = job.result()\n",
    "\n",
    "    ## get the unitary matrix from the result object\n",
    "    return result.get_unitary(circ)     "
   ]
  },
  {
   "cell_type": "code",
   "execution_count": 1050,
   "id": "81178ae5",
   "metadata": {},
   "outputs": [],
   "source": [
    "#np.around(Hadamard(1),4)"
   ]
  },
  {
   "cell_type": "markdown",
   "id": "f8f4ec84",
   "metadata": {},
   "source": [
    "## Reconstruction of the Oracle matrix from the transpile\n",
    "The following multiplys the one and two qubits to get the Grover operator."
   ]
  },
  {
   "cell_type": "markdown",
   "id": "dabbf762",
   "metadata": {},
   "source": [
    "## Diagnonalization of G\n",
    "The following code puts G in the form $G = V e^{-i \\phi_F} V^{\\dagger}$, where $V$ is unitary and $\\phi_F$ is a diagonal matrix."
   ]
  },
  {
   "cell_type": "code",
   "execution_count": 1051,
   "id": "00bae83b",
   "metadata": {},
   "outputs": [],
   "source": [
    "import numpy\n",
    "import numpy.linalg\n",
    "\n",
    "sigma_x=numpy.zeros((2,2),dtype=complex)\n",
    "sigma_y=numpy.zeros((2,2),dtype=complex)\n",
    "sigma_z=numpy.zeros((2,2),dtype=complex)\n",
    "sigma_0=numpy.identity(2,dtype=complex)\n",
    "sigma_x[0,1]=1.\n",
    "sigma_x[1,0]=1.\n",
    "sigma_y[0,1]=-1.j\n",
    "sigma_y[1,0]=1.j\n",
    "sigma_z[0,0]=1.\n",
    "sigma_z[1,1]=-1.\n",
    "sigma_plus=(sigma_x+1.j*sigma_y)/2.\n",
    "sigma_minus=(sigma_x-1.j*sigma_y)/2.\n",
    "\n",
    "def adjoint(psi):\n",
    "    return psi.conjugate().transpose()\n",
    "\n",
    "def psi_to_rho(psi):\n",
    "    return numpy.outer(psi,psi.conjugate())\n",
    "\n",
    "def exp_val(psi, op):\n",
    "    return numpy.real(numpy.dot(adjoint(psi),op.dot(psi)))\n",
    "\n",
    "def norm_sq(psi):\n",
    "    return numpy.real(numpy.dot(adjoint(psi),psi))\n",
    "\n",
    "def normalize(psi,tol=1e-9):\n",
    "    ns=norm_sq(psi)**0.5\n",
    "    if ns < tol:\n",
    "        raise ValueError\n",
    "    return psi/ns\n",
    "\n",
    "def comm(a,b):\n",
    "    return a.dot(b)-b.dot(a)\n",
    "\n",
    "def anti_comm(a,b):\n",
    "    return a.dot(b)+b.dot(a)\n",
    "\n",
    "def is_herm(M,tol=1e-9):\n",
    "    if M.shape[0]!=M.shape[1]:\n",
    "        return False\n",
    "    diff=M-adjoint(M)\n",
    "    return max(numpy.abs(diff.flatten())) < tol\n",
    "\n",
    "def is_unitary(M,tol=1e-9):\n",
    "    if M.shape[0]!=M.shape[1]:\n",
    "        return False\n",
    "    diff=M.dot(adjoint(M))-numpy.identity((M.shape[0]))\n",
    "    return max(numpy.abs(diff.flatten())) < tol\n",
    "\n",
    "def eigu(U,tol=1e-9):\n",
    "    (E_1,V_1)=numpy.linalg.eigh(U+adjoint(U))\n",
    "    U_1=adjoint(V_1).dot(U).dot(V_1)\n",
    "    H_1=adjoint(V_1).dot(U+adjoint(U)).dot(V_1)\n",
    "    non_diag_lst=[]\n",
    "    j=0\n",
    "    while j < U_1.shape[0]:\n",
    "        k=0\n",
    "        while k < U_1.shape[0]:\n",
    "            if j!=k and abs(U_1[j,k]) > tol:\n",
    "                if j not in non_diag_lst:\n",
    "                    non_diag_lst.append(j)\n",
    "                if k not in non_diag_lst:\n",
    "                    non_diag_lst.append(k)\n",
    "            k+=1\n",
    "        j+=1\n",
    "    if len(non_diag_lst) > 0:\n",
    "        non_diag_lst=numpy.sort(numpy.array(non_diag_lst))\n",
    "        U_1_cut=U_1[non_diag_lst,:][:,non_diag_lst]\n",
    "        (E_2_cut,V_2_cut)=numpy.linalg.eigh(1.j*(U_1_cut-adjoint(U_1_cut)))\n",
    "        V_2=numpy.identity((U.shape[0]),dtype=V_2_cut.dtype)\n",
    "        for j in range(len(non_diag_lst)):\n",
    "            V_2[non_diag_lst[j],non_diag_lst]=V_2_cut[j,:]\n",
    "        V_1=V_1.dot(V_2)\n",
    "        U_1=adjoint(V_2).dot(U_1).dot(V_2)\n",
    "\n",
    "    # Sort by phase\n",
    "    U_1=numpy.diag(U_1)\n",
    "    inds=numpy.argsort(numpy.imag(numpy.log(U_1)))\n",
    "\n",
    "    return (U_1[inds],V_1[:,inds]) # = (U_d,V) s.t. U=V*U_d*V^\\dagger\n",
    "\n"
   ]
  },
  {
   "cell_type": "markdown",
   "id": "4edac3d1",
   "metadata": {},
   "source": [
    "## Noise creation\n",
    "This following line creates an array of random numbers which length is equal to the number of Rz gates.\n",
    "$$\\delta = [\\delta_1, \\delta_2, ..., \\delta_{\\text{Number of Rz}}]$$\n",
    "Where $\\delta_i$ are random numbers between $-1$ and $1$.  "
   ]
  },
  {
   "cell_type": "code",
   "execution_count": 1052,
   "id": "e68be551",
   "metadata": {},
   "outputs": [],
   "source": [
    "Rz_Noise = 2*(np.random.rand(Rz_Number)-0.5)\n",
    "\n",
    "# Use the line below for no noise case.\n",
    "#Rz_Noise = np.zeros(Rz_Number)"
   ]
  },
  {
   "cell_type": "markdown",
   "id": "a41c921a",
   "metadata": {},
   "source": [
    "In the following $\\epsilon$ acts as a strength of noise. The array Rz_Noise has random numbers from -1 to 1. The following function multiplies $\\epsilon$ to each random numbers in Rz_Noise and add that to each Rz gate of the oracle $U_w$. We will first reconstruct the Grover operator by first constructing the oracle $U_w$ from the transpile and then by multiplying $U_w$ and $U_s$ to get $G$."
   ]
  },
  {
   "cell_type": "code",
   "execution_count": 1053,
   "id": "0fcc7ab8",
   "metadata": {},
   "outputs": [],
   "source": [
    "def Grover_reconstructed(epsilon):\n",
    "    \n",
    "    ## Initializing the oracle U_w as an identity matrix.\n",
    "    \n",
    "    Or = np.identity(2**N, dtype = complex) \n",
    "\n",
    "    ## In the following loop we multiply all the 1 and 2 qubit gates with (or without) noise.\n",
    "    \n",
    "    j = 0 # Index for the random noise list.\n",
    "    \n",
    "    for i in range(len(l)): # l is the list with all the gates.\n",
    "    \n",
    "        if l[i][0][0] == 'rz':\n",
    "            \n",
    "            Or = np.matmul(Or, Rz(float(l[i][1][0])  + epsilon * Rz_Noise[j], int(l[i][2][0])))\n",
    "            \n",
    "            j = j + 1\n",
    "        \n",
    "        elif l[i][0][0] == 'h':\n",
    "        \n",
    "            Or = np.matmul(Or, Hadamard(int(l[i][2][0])))\n",
    "        \n",
    "        else:\n",
    "        \n",
    "            Or = np.matmul(Or, C_not(int(l[i][2][0][0]), int(l[i][2][0][1])))\n",
    "     \n",
    "    Or = Or/Or[0,0]\n",
    "    \n",
    "    if np.sign(Or[0,0]) == np.sign(U_w[0,0]):\n",
    "        \n",
    "        pass\n",
    "    \n",
    "    else:\n",
    "        \n",
    "        Or = -Or\n",
    "    Gr = np.matmul(Or, U_s)\n",
    "    \n",
    "    return Gr"
   ]
  },
  {
   "cell_type": "code",
   "execution_count": null,
   "id": "4774ab47",
   "metadata": {},
   "outputs": [],
   "source": []
  },
  {
   "cell_type": "markdown",
   "id": "25894066",
   "metadata": {},
   "source": [
    "## $\\phi_F$ from $U_d$\n",
    "Given $U_d$ by the function eigu, this function returns an array $\\phi_F$.\n",
    "$$V e^{-i \\phi_F} V^{\\dagger} = V U_d V^{\\dagger}$$ so, $$e^{-i \\phi_F} = U_d$$ or $$ \\phi_F = i \\log(U_d) $$\n",
    "The following function returns and array vector $\\phi_F$ for an operator as input.\n"
   ]
  },
  {
   "cell_type": "code",
   "execution_count": 1054,
   "id": "d175e874",
   "metadata": {},
   "outputs": [],
   "source": [
    "def Phi_F(operator): \n",
    "    \n",
    "    return (1j*np.log(eigu(operator)[0])).real  # eigu(Gr)[0] = exp(-i * phi_F)."
   ]
  },
  {
   "cell_type": "markdown",
   "id": "098afb74",
   "metadata": {},
   "source": [
    "## $\\phi_F$ of the constructed Grover operator without noise"
   ]
  },
  {
   "cell_type": "code",
   "execution_count": 1055,
   "id": "9f74c855",
   "metadata": {},
   "outputs": [
    {
     "data": {
      "text/plain": [
       "array([ 2.63623214,  0.        ,  0.        ,  0.        ,  0.        ,\n",
       "        0.        ,  0.        ,  0.        ,  0.        ,  0.        ,\n",
       "        0.        ,  0.        ,  0.        ,  0.        ,  0.        ,\n",
       "       -2.63623214])"
      ]
     },
     "execution_count": 1055,
     "metadata": {},
     "output_type": "execute_result"
    }
   ],
   "source": [
    "def Uw_NoNoise():\n",
    "    \n",
    "    ## Initializing the oracle U_w as an identity matrix.\n",
    "    \n",
    "    Or = np.identity(2**N, dtype = complex) \n",
    "\n",
    "    ## In the following loop we multiply all the 1 and 2 qubit gates with (or without) noise.\n",
    "    \n",
    "    \n",
    "    for i in range(len(l)): # l is the list with all the gates.\n",
    "    \n",
    "        if l[i][0][0] == 'rz':\n",
    "            \n",
    "            Or = np.matmul(Or, Rz(float(l[i][1][0]), int(l[i][2][0])))\n",
    "        \n",
    "        elif l[i][0][0] == 'h':\n",
    "        \n",
    "            Or = np.matmul(Or, Hadamard(int(l[i][2][0])))\n",
    "        \n",
    "        else:\n",
    "        \n",
    "            Or = np.matmul(Or, C_not(int(l[i][2][0][0]), int(l[i][2][0][1])))\n",
    "     \n",
    "    Or = Or/Or[0,0]\n",
    "    \n",
    "    if np.sign(Or[0,0]) == np.sign(U_w[0,0]):\n",
    "        \n",
    "        pass\n",
    "    \n",
    "    else:\n",
    "        \n",
    "        Or = -Or\n",
    "\n",
    "    return Or\n",
    "\n",
    "np.around(Phi_F(np.matmul(Uw_NoNoise(), U_s)),8)"
   ]
  },
  {
   "cell_type": "markdown",
   "id": "10e4a2d3",
   "metadata": {},
   "source": [
    "## $\\phi_F$ of the original Grover operator"
   ]
  },
  {
   "cell_type": "code",
   "execution_count": 1056,
   "id": "5f0d16b5",
   "metadata": {},
   "outputs": [
    {
     "data": {
      "text/plain": [
       "array([ 2.63623214, -0.        , -0.        , -0.        , -0.        ,\n",
       "        0.        ,  0.        , -0.        , -0.        , -0.        ,\n",
       "       -0.        , -0.        ,  0.        , -0.        ,  0.        ,\n",
       "       -2.63623214])"
      ]
     },
     "execution_count": 1056,
     "metadata": {},
     "output_type": "execute_result"
    }
   ],
   "source": [
    "Phi_F(G)"
   ]
  },
  {
   "cell_type": "markdown",
   "id": "bb6e7b58",
   "metadata": {},
   "source": [
    "### Ploting the graph"
   ]
  },
  {
   "cell_type": "code",
   "execution_count": null,
   "id": "d08a5613",
   "metadata": {},
   "outputs": [],
   "source": [
    "f = open('quantum_data.txt', 'w')\n",
    "Num = 50\n",
    "for i in range(1,Num):\n",
    "    eps = i/(4 * Num)\n",
    "    f = open('quantum_data.txt', 'a')\n",
    "    for j in range(2**N):\n",
    "        f.write(str(eps)+','+str(Phi_F(Grover_reconstructed(eps))[j].real)+'\\n')\n",
    "    f.close()    "
   ]
  },
  {
   "cell_type": "code",
   "execution_count": null,
   "id": "55d2d64f",
   "metadata": {},
   "outputs": [],
   "source": [
    "import matplotlib.pyplot as plt\n",
    "import numpy as np\n",
    "\n",
    "X, Y = np.loadtxt('quantum_data.txt', delimiter = ',', unpack=True)\n",
    "f = plt.figure()\n",
    "f.set_figwidth(12)\n",
    "f.set_figheight(8)\n",
    "plt.scatter(X, Y, s=12, c='b')\n",
    "plt.title(r'Plot of $\\phi_F \\; vs \\;  \\epsilon$', fontsize = 30)\n",
    "#plt.title('Phi_F vs. epsilon',fontsize=30)\n",
    "plt.xlabel(r'$\\epsilon$',fontsize=40)\n",
    "plt.xticks(fontsize=25)\n",
    "plt.ylabel(r'$\\phi_F$',fontsize=40)\n",
    "plt.yticks(fontsize=25)\n",
    "plt.xticks([0, 0.05, 0.10, 0.15, 0.20, 0.25],\n",
    "          ['$0$', '$0.05$', '$0.10$', '$0.15$', '$0.20$', '$0.25$' ])\n",
    "plt.yticks([-pi, -pi/2, -3*pi/4, -pi/4, 0, pi/4, 3*pi/4, pi/2, pi],\n",
    "           ['$-\\pi$', r'$-\\pi/2$', r'$-3\\pi/4$', r'$-\\pi/4$', r'$0$', r'$\\pi/4$', r'$3\\pi/4$',\n",
    "            r'$\\pi/2$', '$\\pi$' ])\n",
    "plt.savefig(\"Images/Target_state\"+str(Num)+\".pdf\")\n",
    "plt.show()\n",
    "end = time.time()\n",
    "print('Time taken', (end-start)/60,'minutes')"
   ]
  }
 ],
 "metadata": {
  "kernelspec": {
   "display_name": "Python 3 (ipykernel)",
   "language": "python",
   "name": "python3"
  },
  "language_info": {
   "codemirror_mode": {
    "name": "ipython",
    "version": 3
   },
   "file_extension": ".py",
   "mimetype": "text/x-python",
   "name": "python",
   "nbconvert_exporter": "python",
   "pygments_lexer": "ipython3",
   "version": "3.9.7"
  }
 },
 "nbformat": 4,
 "nbformat_minor": 5
}
