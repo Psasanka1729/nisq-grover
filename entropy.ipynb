{
 "cells": [
  {
   "cell_type": "code",
   "execution_count": 221,
   "id": "1ea99ac1",
   "metadata": {},
   "outputs": [],
   "source": [
    "import numpy as np\n",
    "from sympy import*"
   ]
  },
  {
   "cell_type": "markdown",
   "id": "44823c89",
   "metadata": {},
   "source": [
    "$$<s|\\rho_{A}|s^{'}> =\\sum_{s^{''}} <ss^{''}|\\rho_{AB}|s^{'}s^{''}>$$\n",
    "$$<s|\\rho_{A}|s^{'}> =\\sum_{s^{''}} <ss^{''}|\\psi><\\psi|s^{'}s^{''}>$$"
   ]
  },
  {
   "cell_type": "code",
   "execution_count": 222,
   "id": "add5b33a",
   "metadata": {},
   "outputs": [],
   "source": [
    "## Input for Psi.\n",
    "# \\Psi> = |0000>+|1111>.\n",
    "\n",
    "Psi = [1,1,1,1,0,0,0,0,0,0,0,0,0,0,0,1]\n",
    "# Psi = [0,1,2,3,4,5,6,7,8,9,10,11,12,13,14,15]\n",
    "\n",
    "# Converting the list to a numpy matrix.\n",
    "Psi = np.matrix(Psi).reshape(len(Psi),1) # Psi column matrix.\n",
    "\n",
    "# Normalizing Psi.\n",
    "Psi = Psi/np.linalg.norm(Psi)\n",
    "\n",
    "Psi_Dagger = Psi.getH() # Psi^\\dagger\n",
    "\n",
    "# Number of qubits.\n",
    "N = int(np.log(len(Psi))/np.log(2))\n",
    "\n",
    "# L_A1, L_A2 etc.\n",
    "L = N // 2 "
   ]
  },
  {
   "cell_type": "code",
   "execution_count": 223,
   "id": "62cf4e18",
   "metadata": {},
   "outputs": [],
   "source": [
    "#def Bin2Dec(BinaryNumber):\n",
    "#    return int(str(BinaryNumber),2)\n",
    "#def Dec2Bin(DecimalNumber):\n",
    "#    return bin(DecimalNumber).replace(\"0b\", \"\")"
   ]
  },
  {
   "cell_type": "markdown",
   "id": "ac1a286d",
   "metadata": {},
   "source": [
    "$$\\psi_{s^{'}} = \\Psi[ 2^{L} s^{'} : 2^{L} s^{'}+2^{L}-1] $$"
   ]
  },
  {
   "cell_type": "code",
   "execution_count": 224,
   "id": "c048201b",
   "metadata": {},
   "outputs": [],
   "source": [
    "def psi(s):\n",
    "    return Psi[(2**L)*s:(2**L)*s + 2**L]"
   ]
  },
  {
   "cell_type": "markdown",
   "id": "b6b3a6ca",
   "metadata": {},
   "source": [
    "The elements of the matrix $\\rho_{AB}$ is given by\n",
    "$$<s|\\rho_{AB}|s^{'}> = \\psi^{\\dagger}_{s^{'}} \\psi_{s}$$"
   ]
  },
  {
   "cell_type": "code",
   "execution_count": 225,
   "id": "ef2faafa",
   "metadata": {},
   "outputs": [],
   "source": [
    "'''\n",
    "    psi(s_p) is a row matrix/vector. psi(s) is a column matrix/vector.      \n",
    "    Dimension of rhoA is N/2 x N/2. \n",
    "    The element <s|rhoA|sp> is given by psi_sp^\\dagger * psi_s.\n",
    "''' \n",
    "\n",
    "def rhoA(s,s_p): # <s|rho_AB|s_p>\n",
    "    \n",
    "\n",
    "\n",
    "    # psi(s_p)^\\dagger * psi(s) is the element of (s,s_p) of rho_AB.  \n",
    "    return psi(s_p).getH() * psi(s)"
   ]
  },
  {
   "cell_type": "code",
   "execution_count": 226,
   "id": "e7ca1fe0",
   "metadata": {},
   "outputs": [],
   "source": [
    "def rhoA_Matrix(N):\n",
    "    \n",
    "    M = np.zeros((N,N)) # 0 to N-1.\n",
    "    \n",
    "    '''\n",
    "    rho is Hermitian, it is sufficient to calculate the elements above the diagonal.\n",
    "    The the elements below the diagonal can be replace by the complex cpnjugate of the\n",
    "    elements above the diagonal.\n",
    "    '''\n",
    "    for i in range(N):\n",
    "        for j in range(N):\n",
    "            \n",
    "            if i <= j : # Above the diagonal (i,j) i<j.\n",
    "                \n",
    "                M[i,j] = rhoA(i,j)[0,0]\n",
    "                \n",
    "            else: # Below the diagonal (i,j) i>j.\n",
    "                \n",
    "                M[i,j] = np.conjugate(M[j,i])\n",
    "    return M"
   ]
  },
  {
   "cell_type": "code",
   "execution_count": 227,
   "id": "137a4344",
   "metadata": {},
   "outputs": [
    {
     "name": "stdout",
     "output_type": "stream",
     "text": [
      "rho_A = \n",
      " [[0.8 0.  0.  0.2]\n",
      " [0.  0.  0.  0. ]\n",
      " [0.  0.  0.  0. ]\n",
      " [0.2 0.  0.  0.2]]\n"
     ]
    }
   ],
   "source": [
    "print('rho_A = \\n', rhoA_Matrix(N))"
   ]
  },
  {
   "cell_type": "code",
   "execution_count": 229,
   "id": "e7cfdcb4",
   "metadata": {},
   "outputs": [
    {
     "name": "stdout",
     "output_type": "stream",
     "text": [
      "rho_A in diagonal =  Matrix([[0, 0, 0, 0], [0, 0, 0, 0], [0, 0, 0.860555127546399, 0], [0, 0, 0, 0.139444872453601]])\n",
      "Entropy =  0.4039544864181135\n"
     ]
    }
   ],
   "source": [
    "P,D = Matrix(rhoA_Matrix(N)).diagonalize()\n",
    "print('rho_A in diagonal = ',D)\n",
    "''' \n",
    "    D is the diagonal matrix.After evaluating an expression in Sympy,\n",
    "    the return type is a sympy.Float. However, this is not readily usable by Numpy.\n",
    "    Therefore, consider casting sympy.Float to a numpy.float64\n",
    "\n",
    "'''\n",
    "\n",
    "D = np.diag(np.matrix(np.array(D).astype(np.float64))) # sympy to numpy format.\n",
    "\n",
    "DL = np.zeros(N) # Creating an array for log D with zeros.\n",
    "\n",
    "for i in range(len(D)):\n",
    "    \n",
    "    if D[i] == 0: # log of zero gives nan.\n",
    "        \n",
    "        pass # Leave the log(zero) element as zero.\n",
    "    \n",
    "    else:\n",
    "        \n",
    "        DL[i] = np.log(D[i])\n",
    "        \n",
    "# Entropy = -Tr(rho * log(rho)).        \n",
    "print('Entropy = ',-sum(D*DL))\n"
   ]
  }
 ],
 "metadata": {
  "kernelspec": {
   "display_name": "Python 3 (ipykernel)",
   "language": "python",
   "name": "python3"
  },
  "language_info": {
   "codemirror_mode": {
    "name": "ipython",
    "version": 3
   },
   "file_extension": ".py",
   "mimetype": "text/x-python",
   "name": "python",
   "nbconvert_exporter": "python",
   "pygments_lexer": "ipython3",
   "version": "3.9.7"
  }
 },
 "nbformat": 4,
 "nbformat_minor": 5
}
