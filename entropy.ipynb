{
 "cells": [
  {
   "cell_type": "code",
   "execution_count": 160,
   "id": "1ea99ac1",
   "metadata": {},
   "outputs": [],
   "source": [
    "import numpy as np\n",
    "from sympy import*"
   ]
  },
  {
   "cell_type": "code",
   "execution_count": 148,
   "id": "38379a83",
   "metadata": {},
   "outputs": [],
   "source": [
    "# Number of qubits.\n",
    "N= 4\n",
    "\n",
    "# L_A1, L_A2 etc.\n",
    "L = N // 2 "
   ]
  },
  {
   "cell_type": "markdown",
   "id": "0221a53c",
   "metadata": {},
   "source": [
    "$$<s|\\rho_{A}|s^{'}> =\\sum_{s^{''}} <ss^{''}|\\rho_{AB}|s^{'}s^{''}>$$\n",
    "$$<s|\\rho_{A}|s^{'}> =\\sum_{s^{''}} <ss^{''}|\\psi><\\psi|s^{'}s^{''}>$$"
   ]
  },
  {
   "cell_type": "code",
   "execution_count": 157,
   "id": "a333a735",
   "metadata": {},
   "outputs": [],
   "source": [
    "## Input for Psi.\n",
    "# \\Psi> = |0000>+|1111>.\n",
    "\n",
    "#Psi = [1,0,0,0,0,0,0,0,0,0,0,0,0,0,0,1]\n",
    "Psi = [0,1,2,3,4,5,6,7,8,9,10,11,12,13,14,15]\n",
    "\n",
    "# Converting the list to a numpy matrix.\n",
    "Psi = np.matrix(Psi).reshape(len(Psi),1)\n",
    "\n",
    "Psi_Dagger = Psi.getH() # Psi^\\dagger"
   ]
  },
  {
   "cell_type": "code",
   "execution_count": 150,
   "id": "62cf4e18",
   "metadata": {},
   "outputs": [],
   "source": [
    "#def Bin2Dec(BinaryNumber):\n",
    "#    return int(str(BinaryNumber),2)\n",
    "#def Dec2Bin(DecimalNumber):\n",
    "#    return bin(DecimalNumber).replace(\"0b\", \"\")"
   ]
  },
  {
   "cell_type": "markdown",
   "id": "fdceb3e1",
   "metadata": {},
   "source": [
    "$$\\psi_{s^{'}} = \\Psi[ 2^{L} s^{'} : 2^{L} s^{'}+2^{L}] $$"
   ]
  },
  {
   "cell_type": "code",
   "execution_count": 152,
   "id": "c048201b",
   "metadata": {},
   "outputs": [],
   "source": [
    "def psi(s):\n",
    "    return Psi[ (2**L) * s : (2**L) * s + 2**L]"
   ]
  },
  {
   "cell_type": "markdown",
   "id": "b6b3a6ca",
   "metadata": {},
   "source": [
    "The elements of the matrix $\\rho_{AB}$ is given by\n",
    "$$<s|\\rho_{AB}|s^{'}> = \\psi^{\\dagger}_{s^{'}} \\psi_{s}$$"
   ]
  },
  {
   "cell_type": "code",
   "execution_count": 154,
   "id": "ef2faafa",
   "metadata": {},
   "outputs": [],
   "source": [
    "def rhoA(s,s_p): # <s|rho_AB|s_p>\n",
    "    \n",
    "    # psi(s_p) is a row matrix/vector.\n",
    "    # psi(s) is a column matrix/vector.\n",
    "    \n",
    "    # psi(s_p)^\\dagger * psi(s) is a number (element of rho_AB).  \n",
    "    return psi(s_p).getH() * psi(s)"
   ]
  },
  {
   "cell_type": "code",
   "execution_count": 163,
   "id": "a2fef1b6",
   "metadata": {},
   "outputs": [],
   "source": [
    "M = Matrix([[1,2],[3,4]])\n",
    "P, D = M.diagonalize() "
   ]
  },
  {
   "cell_type": "code",
   "execution_count": 164,
   "id": "59c1c504",
   "metadata": {},
   "outputs": [],
   "source": [
    "def Entropy():\n",
    "    \n",
    "    # rho is diagonal.\n",
    "    return -(rho * np.log(rho)).trace()"
   ]
  }
 ],
 "metadata": {
  "kernelspec": {
   "display_name": "Python 3 (ipykernel)",
   "language": "python",
   "name": "python3"
  },
  "language_info": {
   "codemirror_mode": {
    "name": "ipython",
    "version": 3
   },
   "file_extension": ".py",
   "mimetype": "text/x-python",
   "name": "python",
   "nbconvert_exporter": "python",
   "pygments_lexer": "ipython3",
   "version": "3.9.7"
  }
 },
 "nbformat": 4,
 "nbformat_minor": 5
}
