{
 "cells": [
  {
   "cell_type": "code",
   "execution_count": 1,
   "id": "458b11ff",
   "metadata": {},
   "outputs": [],
   "source": [
    "from qiskit import *\n",
    "from qiskit import Aer\n",
    "import qiskit.quantum_info as qi\n",
    "import numpy as np\n",
    "from math import pi\n",
    "import matplotlib.pyplot as plt\n",
    "import re\n",
    "import csv\n",
    "import time\n",
    "start = time.time()"
   ]
  },
  {
   "cell_type": "markdown",
   "id": "5ee55931",
   "metadata": {},
   "source": [
    "### Target state $|w>$"
   ]
  },
  {
   "cell_type": "code",
   "execution_count": 2,
   "id": "8d00e814",
   "metadata": {},
   "outputs": [],
   "source": [
    "Target_state = '0000'"
   ]
  },
  {
   "cell_type": "markdown",
   "id": "48590116",
   "metadata": {},
   "source": [
    "## Setting up the The Grover operator\n",
    "$$ G = U_w U_s$$\n",
    "Where \n",
    "$$U_w = 2|w><w| - I$$ \n",
    "$U_w$ is a matrix with the position of the target state 1 and all its diagnoal elements are -1 and rest all zero."
   ]
  },
  {
   "cell_type": "code",
   "execution_count": 3,
   "id": "c1734855",
   "metadata": {},
   "outputs": [],
   "source": [
    "# First we note the length of N.\n",
    "N = len(Target_state)\n",
    "\n",
    "# Then an identity matrix is created with the size 2**N with signs reversed.\n",
    "U_w = - np.identity(2 ** N, dtype=complex)\n",
    "\n",
    "\n",
    "# Then the sign of the element corresponding to the target state is flipped. To do that we first convert the\n",
    "# target state from binary to decimal number. \n",
    "Target_index = int(Target_state, 2)\n",
    "\n",
    "## The position of the target state is set as 1.\n",
    "U_w.itemset((Target_index, Target_index),1)"
   ]
  },
  {
   "cell_type": "markdown",
   "id": "dd662d17",
   "metadata": {},
   "source": [
    "$$ U_s = 2|s><s| - I $$\n",
    "Where $$ |s> = \\frac{1}{\\sqrt{2^N}} \\sum_{x} |x>$$\n",
    "$2|s><s|$ is a matrix with all its elements $\\frac{2}{2^N}$. "
   ]
  },
  {
   "cell_type": "code",
   "execution_count": 4,
   "id": "c8ddc116",
   "metadata": {},
   "outputs": [
    {
     "name": "stdout",
     "output_type": "stream",
     "text": [
      "The Grover operator for the target state |w > = | 0000 > is \n",
      "\n",
      " [[-0.875  0.125  0.125  0.125  0.125  0.125  0.125  0.125  0.125  0.125\n",
      "   0.125  0.125  0.125  0.125  0.125  0.125]\n",
      " [-0.125  0.875 -0.125 -0.125 -0.125 -0.125 -0.125 -0.125 -0.125 -0.125\n",
      "  -0.125 -0.125 -0.125 -0.125 -0.125 -0.125]\n",
      " [-0.125 -0.125  0.875 -0.125 -0.125 -0.125 -0.125 -0.125 -0.125 -0.125\n",
      "  -0.125 -0.125 -0.125 -0.125 -0.125 -0.125]\n",
      " [-0.125 -0.125 -0.125  0.875 -0.125 -0.125 -0.125 -0.125 -0.125 -0.125\n",
      "  -0.125 -0.125 -0.125 -0.125 -0.125 -0.125]\n",
      " [-0.125 -0.125 -0.125 -0.125  0.875 -0.125 -0.125 -0.125 -0.125 -0.125\n",
      "  -0.125 -0.125 -0.125 -0.125 -0.125 -0.125]\n",
      " [-0.125 -0.125 -0.125 -0.125 -0.125  0.875 -0.125 -0.125 -0.125 -0.125\n",
      "  -0.125 -0.125 -0.125 -0.125 -0.125 -0.125]\n",
      " [-0.125 -0.125 -0.125 -0.125 -0.125 -0.125  0.875 -0.125 -0.125 -0.125\n",
      "  -0.125 -0.125 -0.125 -0.125 -0.125 -0.125]\n",
      " [-0.125 -0.125 -0.125 -0.125 -0.125 -0.125 -0.125  0.875 -0.125 -0.125\n",
      "  -0.125 -0.125 -0.125 -0.125 -0.125 -0.125]\n",
      " [-0.125 -0.125 -0.125 -0.125 -0.125 -0.125 -0.125 -0.125  0.875 -0.125\n",
      "  -0.125 -0.125 -0.125 -0.125 -0.125 -0.125]\n",
      " [-0.125 -0.125 -0.125 -0.125 -0.125 -0.125 -0.125 -0.125 -0.125  0.875\n",
      "  -0.125 -0.125 -0.125 -0.125 -0.125 -0.125]\n",
      " [-0.125 -0.125 -0.125 -0.125 -0.125 -0.125 -0.125 -0.125 -0.125 -0.125\n",
      "   0.875 -0.125 -0.125 -0.125 -0.125 -0.125]\n",
      " [-0.125 -0.125 -0.125 -0.125 -0.125 -0.125 -0.125 -0.125 -0.125 -0.125\n",
      "  -0.125  0.875 -0.125 -0.125 -0.125 -0.125]\n",
      " [-0.125 -0.125 -0.125 -0.125 -0.125 -0.125 -0.125 -0.125 -0.125 -0.125\n",
      "  -0.125 -0.125  0.875 -0.125 -0.125 -0.125]\n",
      " [-0.125 -0.125 -0.125 -0.125 -0.125 -0.125 -0.125 -0.125 -0.125 -0.125\n",
      "  -0.125 -0.125 -0.125  0.875 -0.125 -0.125]\n",
      " [-0.125 -0.125 -0.125 -0.125 -0.125 -0.125 -0.125 -0.125 -0.125 -0.125\n",
      "  -0.125 -0.125 -0.125 -0.125  0.875 -0.125]\n",
      " [-0.125 -0.125 -0.125 -0.125 -0.125 -0.125 -0.125 -0.125 -0.125 -0.125\n",
      "  -0.125 -0.125 -0.125 -0.125 -0.125  0.875]]\n"
     ]
    }
   ],
   "source": [
    "## We will first create a matrix with all elements 1. This is |psi><psi| = A(say).\n",
    "A = np.ones((2**N, 2**N))\n",
    "\n",
    "## U_s = 2\\(2**N)2|psi><psi| - I\n",
    "U_s = (2/(2**N))*A - np.identity(2**N)\n",
    "\n",
    "## G is the Grover operator.\n",
    "G = np.matmul(U_w, U_s)\n",
    "\n",
    "\n",
    "print('The Grover operator for the target state |w > = | '+Target_state + ' > is \\n\\n',G.real)"
   ]
  },
  {
   "cell_type": "code",
   "execution_count": null,
   "id": "50557873",
   "metadata": {},
   "outputs": [],
   "source": []
  },
  {
   "cell_type": "markdown",
   "id": "2524b8be",
   "metadata": {},
   "source": [
    "## Setting up the circuit"
   ]
  },
  {
   "cell_type": "code",
   "execution_count": 5,
   "id": "c2c1ef18",
   "metadata": {},
   "outputs": [
    {
     "data": {
      "image/png": "[encoded data removed]",
      "text/plain": [
       "<Figure size 206.997x264.88 with 1 Axes>"
      ]
     },
     "execution_count": 5,
     "metadata": {},
     "output_type": "execute_result"
    }
   ],
   "source": [
    "qc = QuantumCircuit(N)\n",
    "qc.unitary(U_w,[i for i in range(N)])\n",
    "qc.draw('mpl')"
   ]
  },
  {
   "cell_type": "markdown",
   "id": "8493c92d",
   "metadata": {},
   "source": [
    "## For transpile, we will choose the basis gates as $Rz, CNOT$ and $H$"
   ]
  },
  {
   "cell_type": "code",
   "execution_count": 6,
   "id": "9310c0f8",
   "metadata": {},
   "outputs": [],
   "source": [
    "trans_qc = transpile(qc, basis_gates = ['id', 'rz', 'cx','h'], optimization_level = 2)\n",
    "#trans_qc.draw('mpl')"
   ]
  },
  {
   "cell_type": "markdown",
   "id": "7d6a81bc",
   "metadata": {},
   "source": [
    "### Writing $1$ and $2$ qubit gates as human readable format.\n",
    "The following loop puts the gates in a text file."
   ]
  },
  {
   "cell_type": "code",
   "execution_count": 7,
   "id": "5544a835",
   "metadata": {},
   "outputs": [
    {
     "name": "stdout",
     "output_type": "stream",
     "text": [
      "Total gates used =  354 \n",
      "Number of Rz gates = 143 \n",
      "Number of Hadamard gates = 138 \n",
      "Number of CNOT gates = 73\n"
     ]
    }
   ],
   "source": [
    "## The transpile comnand returns transpiled gates in the following structure. For example,\n",
    "# a Rz gate acting on qubit 0 with angle 0.98 looks like the following.\n",
    "## (Instruction(name='rz', num_qubits=1, num_clbits=0, params=[0.9817477042468101]),\n",
    "#[Qubit(QuantumRegister(3, 'q'), 0)], [])\n",
    "\n",
    "\n",
    "# a Hadamard gate acting on qubit 0 looks like the following.\n",
    "## (Instruction(name='h', num_qubits=1, num_clbits=0, params=[]), [Qubit(QuantumRegister(3, 'q'), 0)], [])\n",
    "\n",
    "# a CNOT gate looks like the following.\n",
    "## (Instruction(name='cx', num_qubits=2, num_clbits=0, params=[]),\n",
    "#[Qubit(QuantumRegister(3, 'q'), 1), Qubit(QuantumRegister(3, 'q'), 0)], [])\n",
    "\n",
    "\n",
    "f = trans_qc\n",
    "def List_Gates(Gate_Number):\n",
    "    \n",
    "    \n",
    "    ## The list will hold string along with the angles.\n",
    "    l = []\n",
    "    \n",
    "    Name_of_Gate = []\n",
    "    \n",
    "    ## The list will hold the qubit that the gate is acting on.\n",
    "    Qubit = []    \n",
    "    \n",
    "    ## The list will hold the numerical value (float) of the angle for Rz.\n",
    "    Angle = []\n",
    "\n",
    "    ## The following two lines will be used to separate the numerical value of the angle from \n",
    "    # a mixture of string and digits.\n",
    "    numeric_const_pattern = '[-+]? (?: (?: \\d* \\. \\d+ ) | (?: \\d+ \\.? ) )(?: [Ee] [+-]? \\d+ )?'\n",
    "    \n",
    "    rx = re.compile(numeric_const_pattern, re.VERBOSE)\n",
    "    \n",
    "    if str(trans_qc[Gate_Number][0]).split(',')[0][-3:-1] == 'rz':\n",
    "        \n",
    "        Name_of_Gate.append('rz')        \n",
    "        ## For the gate rz, there is one angle. The following lines puts the string which contain\n",
    "        # the angle along with other alphabets in a list l.\n",
    "        l.append(str(list(f)[Gate_Number]).split(',')[3])\n",
    "\n",
    "        \n",
    "        ## The following loop extracts the angle from the string of alphabet and digit.\n",
    "        for i in l:\n",
    "            \n",
    "            if rx.findall(i) == []:\n",
    "                \n",
    "                ## the angle zero is written as 0.0 .\n",
    "                Angle.append(0.0)\n",
    "                \n",
    "            else:\n",
    "                \n",
    "                Angle.append(float(rx.findall(i)[0]))\n",
    "                \n",
    "        ## the qubit on which rz acts is listed.        \n",
    "        Qubit.append(re.sub(\"\\D\", \"\", str(trans_qc[Gate_Number][1]).split(',')[2]))  \n",
    "        \n",
    "    # For hadamard gates the qubit it is applied to is listed.    \n",
    "    elif str(trans_qc[Gate_Number][0]).split(',')[0][-2:-1] == 'h':\n",
    "        \n",
    "        Name_of_Gate.append('h')\n",
    "        Qubit.append(re.sub(\"\\D\", \"\", str(trans_qc[Gate_Number][1]).split(',')[2]))\n",
    "    \n",
    "    \n",
    "        ## if the gate is cx then the Angle list is empty.        \n",
    "    else:\n",
    "        \n",
    "        Name_of_Gate.append('cx')     \n",
    "        ## the control and the target bit is listed.\n",
    "        Control_bit = re.sub(\"\\D\", '', str(trans_qc[Gate_Number][1][0]).split(',')[2])\n",
    "        \n",
    "        Target_bit = re.sub(\"\\D\", '', str(trans_qc[Gate_Number][1][1]).split(',')[2])   \n",
    "        \n",
    "        Qubit.append([Control_bit, Target_bit])\n",
    "    \n",
    "    \n",
    "    return Name_of_Gate,Angle, Qubit\n",
    "\n",
    "\n",
    "\n",
    "# The following list has all the gates in the format [name of the gate, angle, qubit].\n",
    "l = []\n",
    "for i in range(len(f)):\n",
    "    l.append(List_Gates(i))      \n",
    "\n",
    "## To view the gates, open the following text file.    \n",
    "file = open('gates_list'+Target_state+'.txt', 'w')\n",
    "\n",
    "\n",
    "# The following variables will count number of each gates.\n",
    "rz_count = 0\n",
    "h_count = 0\n",
    "cx_count = 0\n",
    "\n",
    "\n",
    "## The following loop writes the gates into the file.\n",
    "for i in range(len(l)):\n",
    "    \n",
    "    if l[i][0][0] == 'rz':\n",
    "        \n",
    "        file.write('rz'+','+str(l[i][1][0])+','+str(l[i][2][0])+','+'\\n')\n",
    "        \n",
    "        rz_count += 1\n",
    "        \n",
    "    elif l[i][0][0] == 'h':\n",
    "        \n",
    "        file.write('h'+','+'0.0'+','+str(l[i][2][0])+','+'\\n')\n",
    "        \n",
    "        h_count += 1\n",
    "        \n",
    "    else:\n",
    "        \n",
    "        file.write('cx'+','+l[i][2][0][0]+','+l[i][2][0][1]+','+'\\n')\n",
    "        \n",
    "        cx_count += 1\n",
    "\n",
    "print(\n",
    "    'Total gates used = ',len(l),'\\n' \\\n",
    "      'Number of Rz gates =', rz_count,'\\n'\\\n",
    "      'Number of Hadamard gates =', h_count,'\\n'\\\n",
    "      'Number of CNOT gates =', cx_count\n",
    "        )   \n",
    "Rz_Number = rz_count"
   ]
  },
  {
   "cell_type": "markdown",
   "id": "fd2df2fe",
   "metadata": {},
   "source": [
    "## The basis gates\n",
    "The following returns the matrix of the Hadamard, CNOT and RZ gate."
   ]
  },
  {
   "cell_type": "markdown",
   "id": "e4aedf14",
   "metadata": {},
   "source": [
    "### Hadamard gate"
   ]
  },
  {
   "cell_type": "code",
   "execution_count": 8,
   "id": "527f278b",
   "metadata": {},
   "outputs": [],
   "source": [
    "## The dimension of the matrix is fixed by the number of qubits.\n",
    "def Hadamard(Qubit):\n",
    "    \n",
    "    ## Changing the simulator \n",
    "    backend = Aer.get_backend('unitary_simulator')\n",
    "\n",
    "    ## The circuit without measurement\n",
    "    circ = QuantumCircuit(N)\n",
    "    circ.h(Qubit)\n",
    "\n",
    "    ## job execution and getting the result as an object\n",
    "    job = execute(circ, backend)\n",
    "    result = job.result()\n",
    "\n",
    "    ## get the unitary matrix from the result object\n",
    "    return result.get_unitary(circ)"
   ]
  },
  {
   "cell_type": "markdown",
   "id": "7155b57d",
   "metadata": {},
   "source": [
    "### CNOT gate"
   ]
  },
  {
   "cell_type": "code",
   "execution_count": 9,
   "id": "9b0662d1",
   "metadata": {},
   "outputs": [],
   "source": [
    "## The dimension of the matrix is fixed by the number of qubits.\n",
    "def CNOT(t,c):\n",
    "    ## Changing the simulator \n",
    "    backend = Aer.get_backend('unitary_simulator')\n",
    "\n",
    "    ## The circuit without measurement\n",
    "    circ = QuantumCircuit(N)\n",
    "    circ.cx(t,c)\n",
    "\n",
    "    ## job execution and getting the result as an object\n",
    "    job = execute(circ, backend)\n",
    "    result = job.result()\n",
    "\n",
    "    ## get the unitary matrix from the result object\n",
    "    return result.get_unitary(circ) "
   ]
  },
  {
   "cell_type": "markdown",
   "id": "9132dca6",
   "metadata": {},
   "source": [
    "### RZ gate"
   ]
  },
  {
   "cell_type": "code",
   "execution_count": 10,
   "id": "d34a3ecf",
   "metadata": {},
   "outputs": [],
   "source": [
    "def Rz(Angle, Qubit):\n",
    "    ## Changing the simulator \n",
    "    backend = Aer.get_backend('unitary_simulator')\n",
    "\n",
    "    ## The circuit without measurement\n",
    "    circ = QuantumCircuit(N)\n",
    "    circ.rz(Angle, Qubit)\n",
    "\n",
    "    ## job execution and getting the result as an object\n",
    "    job = execute(circ, backend)\n",
    "    result = job.result()\n",
    "\n",
    "    ## get the unitary matrix from the result object\n",
    "    return result.get_unitary(circ)     "
   ]
  },
  {
   "cell_type": "markdown",
   "id": "f8f4ec84",
   "metadata": {},
   "source": [
    "## Reconstruction of the Oracle matrix from the transpile\n",
    "The following multiplys the one and two qubits to get the Oracle $U_w$. This part is not required for the overall functioning of the code."
   ]
  },
  {
   "cell_type": "code",
   "execution_count": 11,
   "id": "3ff2e2ad",
   "metadata": {},
   "outputs": [],
   "source": [
    "def Uw_NoNoise():\n",
    "    \n",
    "    ## Initializing the oracle U_w as an identity matrix.\n",
    "    \n",
    "    Or = np.identity(2**N) \n",
    "\n",
    "    ## In the following loop we multiply all the 1 and 2 qubit gates with (or without) noise.\n",
    "    \n",
    "    \n",
    "    for i in range(len(l)): # l is the list with all the gates.\n",
    "    \n",
    "        if l[i][0][0] == 'rz':\n",
    "            \n",
    "            Or = np.matmul(Or, Rz(float(l[i][1][0]), int(l[i][2][0])))\n",
    "        \n",
    "        elif l[i][0][0] == 'h':\n",
    "        \n",
    "            Or = np.matmul(Or, Hadamard(int(l[i][2][0])))\n",
    "        \n",
    "        else:\n",
    "        \n",
    "            Or = np.matmul(Or, CNOT(int(l[i][2][0][0]), int(l[i][2][0][1])))\n",
    "     \n",
    "    Or = Or/Or[0,0]\n",
    "    \n",
    "    if np.sign(Or[0,0]) == np.sign(U_w[0,0]):\n",
    "        \n",
    "        pass\n",
    "    \n",
    "    else:\n",
    "        \n",
    "        Or = -Or\n",
    "\n",
    "    return Or"
   ]
  },
  {
   "cell_type": "code",
   "execution_count": null,
   "id": "49a07704",
   "metadata": {},
   "outputs": [],
   "source": []
  },
  {
   "cell_type": "markdown",
   "id": "aca19ed9",
   "metadata": {},
   "source": [
    "### Comparison of the Oracle $U_w$ before and after the transpile"
   ]
  },
  {
   "cell_type": "code",
   "execution_count": 12,
   "id": "895df1ce",
   "metadata": {},
   "outputs": [],
   "source": [
    "#print('Oiginal Oracle \\n\\n', U_w.real, '\\n\\n Oracle from transpile \\n\\n', np.around(Uw_NoNoise(),4).real)"
   ]
  },
  {
   "cell_type": "markdown",
   "id": "d29596ab",
   "metadata": {},
   "source": [
    "## Adding noise to the Oracle"
   ]
  },
  {
   "cell_type": "markdown",
   "id": "4edac3d1",
   "metadata": {},
   "source": [
    "### Noise creation\n",
    "This following line creates an array of random numbers which length is equal to the number of Rz gates.\n",
    "$$\\delta = [\\delta_1, \\delta_2, ..., \\delta_{\\text{Number of Rz}}]$$\n",
    "Where $\\delta_i$ are random numbers between $-1$ and $1$.  "
   ]
  },
  {
   "cell_type": "code",
   "execution_count": 13,
   "id": "e68be551",
   "metadata": {},
   "outputs": [],
   "source": [
    "#Rz_Noise = 2*(np.random.rand(Rz_Number)-0.5)\n",
    "\n",
    "# Use the line below for no noise case.\n",
    "#Rz_Noise = np.zeros(Rz_Number)"
   ]
  },
  {
   "cell_type": "markdown",
   "id": "a41c921a",
   "metadata": {},
   "source": [
    "In the following $\\epsilon$ acts as a strength of noise. The array Rz_Noise has random numbers from -1 to 1. The following function multiplies $\\epsilon$ to each random numbers in Rz_Noise and add that to each Rz gate of the oracle $U_w$. We will first reconstruct the Grover operator by first constructing the oracle $U_w$ from the transpile and then by multiplying $U_w$ and $U_s$ to get $G$."
   ]
  },
  {
   "cell_type": "code",
   "execution_count": 14,
   "id": "0fcc7ab8",
   "metadata": {},
   "outputs": [],
   "source": [
    "def Grover_reconstructed(epsilon):\n",
    "    \n",
    "    # for entropy creating different noise.\n",
    "    Rz_Noise = 2*(np.random.rand(Rz_Number)-0.5)\n",
    "    \n",
    "    \n",
    "    ## Initializing the oracle U_w as an identity matrix.\n",
    "    \n",
    "    Or = np.identity(2**N) \n",
    "\n",
    "    ## In the following loop we multiply all the 1 and 2 qubit gates with (or without) noise.\n",
    "    \n",
    "    j = 0 # Index for the random noise list.\n",
    "    \n",
    "    for i in range(len(l)): # l is the list with all the gates.\n",
    "    \n",
    "        if l[i][0][0] == 'rz':\n",
    "            \n",
    "            Or = np.matmul(Or, Rz(float(l[i][1][0])  + epsilon * Rz_Noise[j], int(l[i][2][0])))\n",
    "            \n",
    "            j = j + 1\n",
    "        \n",
    "        elif l[i][0][0] == 'h':\n",
    "        \n",
    "            Or = np.matmul(Or, Hadamard(int(l[i][2][0])))\n",
    "        \n",
    "        else:\n",
    "        \n",
    "            Or = np.matmul(Or, CNOT(int(l[i][2][0][0]), int(l[i][2][0][1])))\n",
    "     \n",
    "    ## In the following we will fix the phase of the reconstructed Oracle. First we will make all the elements\n",
    "    # 1 or -1.\n",
    "    Or = Or/Or[0,0]\n",
    "    \n",
    "    ## The sign of the reconstructed Oracle should be same as that of original U_w.\n",
    "    if np.sign(Or[0,0]) == np.sign(U_w[0,0]):\n",
    "        \n",
    "        pass # If the sign is same, then pass.\n",
    "    \n",
    "    else:\n",
    "        \n",
    "        Or = -Or # Otherwise change the sign.\n",
    "    Gr = np.matmul(Or, U_s) ## The Grover operator G = U_w * U_s.\n",
    "    \n",
    "    return Gr"
   ]
  },
  {
   "cell_type": "markdown",
   "id": "1adc240e",
   "metadata": {},
   "source": [
    "### Comparison of the Grover operator $G$ before and after and the transpile"
   ]
  },
  {
   "cell_type": "code",
   "execution_count": 15,
   "id": "3fa9ea64",
   "metadata": {},
   "outputs": [],
   "source": [
    "#print('Original Grover operator\\n\\n', G.real,'\\n\\n Grover after transpile \\n\\n', \n",
    "      #np.around(Grover_reconstructed(0).real,4))"
   ]
  },
  {
   "cell_type": "markdown",
   "id": "c33a38ca",
   "metadata": {},
   "source": [
    "## Diagnonalization of G\n",
    "The following code puts G in the form $G = V e^{-i \\phi_F} V^{\\dagger}$, where $V$ is unitary and $\\phi_F$ is a diagonal matrix."
   ]
  },
  {
   "cell_type": "code",
   "execution_count": 16,
   "id": "4774ab47",
   "metadata": {},
   "outputs": [],
   "source": [
    "import numpy\n",
    "import numpy.linalg\n",
    "\n",
    "sigma_x=numpy.zeros((2,2),dtype=complex)\n",
    "sigma_y=numpy.zeros((2,2),dtype=complex)\n",
    "sigma_z=numpy.zeros((2,2),dtype=complex)\n",
    "sigma_0=numpy.identity(2,dtype=complex)\n",
    "sigma_x[0,1]=1.\n",
    "sigma_x[1,0]=1.\n",
    "sigma_y[0,1]=-1.j\n",
    "sigma_y[1,0]=1.j\n",
    "sigma_z[0,0]=1.\n",
    "sigma_z[1,1]=-1.\n",
    "sigma_plus=(sigma_x+1.j*sigma_y)/2.\n",
    "sigma_minus=(sigma_x-1.j*sigma_y)/2.\n",
    "\n",
    "def adjoint(psi):\n",
    "    return psi.conjugate().transpose()\n",
    "\n",
    "def psi_to_rho(psi):\n",
    "    return numpy.outer(psi,psi.conjugate())\n",
    "\n",
    "def exp_val(psi, op):\n",
    "    return numpy.real(numpy.dot(adjoint(psi),op.dot(psi)))\n",
    "\n",
    "def norm_sq(psi):\n",
    "    return numpy.real(numpy.dot(adjoint(psi),psi))\n",
    "\n",
    "def normalize(psi,tol=1e-9):\n",
    "    ns=norm_sq(psi)**0.5\n",
    "    if ns < tol:\n",
    "        raise ValueError\n",
    "    return psi/ns\n",
    "\n",
    "def comm(a,b):\n",
    "    return a.dot(b)-b.dot(a)\n",
    "\n",
    "def anti_comm(a,b):\n",
    "    return a.dot(b)+b.dot(a)\n",
    "\n",
    "def is_herm(M,tol=1e-9):\n",
    "    if M.shape[0]!=M.shape[1]:\n",
    "        return False\n",
    "    diff=M-adjoint(M)\n",
    "    return max(numpy.abs(diff.flatten())) < tol\n",
    "\n",
    "def is_unitary(M,tol=1e-9):\n",
    "    if M.shape[0]!=M.shape[1]:\n",
    "        return False\n",
    "    diff=M.dot(adjoint(M))-numpy.identity((M.shape[0]))\n",
    "    return max(numpy.abs(diff.flatten())) < tol\n",
    "\n",
    "def eigu(U,tol=1e-9):\n",
    "    (E_1,V_1)=numpy.linalg.eigh(U+adjoint(U))\n",
    "    U_1=adjoint(V_1).dot(U).dot(V_1)\n",
    "    H_1=adjoint(V_1).dot(U+adjoint(U)).dot(V_1)\n",
    "    non_diag_lst=[]\n",
    "    j=0\n",
    "    while j < U_1.shape[0]:\n",
    "        k=0\n",
    "        while k < U_1.shape[0]:\n",
    "            if j!=k and abs(U_1[j,k]) > tol:\n",
    "                if j not in non_diag_lst:\n",
    "                    non_diag_lst.append(j)\n",
    "                if k not in non_diag_lst:\n",
    "                    non_diag_lst.append(k)\n",
    "            k+=1\n",
    "        j+=1\n",
    "    if len(non_diag_lst) > 0:\n",
    "        non_diag_lst=numpy.sort(numpy.array(non_diag_lst))\n",
    "        U_1_cut=U_1[non_diag_lst,:][:,non_diag_lst]\n",
    "        (E_2_cut,V_2_cut)=numpy.linalg.eigh(1.j*(U_1_cut-adjoint(U_1_cut)))\n",
    "        V_2=numpy.identity((U.shape[0]),dtype=V_2_cut.dtype)\n",
    "        for j in range(len(non_diag_lst)):\n",
    "            V_2[non_diag_lst[j],non_diag_lst]=V_2_cut[j,:]\n",
    "        V_1=V_1.dot(V_2)\n",
    "        U_1=adjoint(V_2).dot(U_1).dot(V_2)\n",
    "\n",
    "    # Sort by phase\n",
    "    U_1=numpy.diag(U_1)\n",
    "    inds=numpy.argsort(numpy.imag(numpy.log(U_1)))\n",
    "\n",
    "    return (U_1[inds],V_1[:,inds]) # = (U_d,V) s.t. U=V*U_d*V^\\dagger\n",
    "\n"
   ]
  },
  {
   "cell_type": "markdown",
   "id": "421b3f11",
   "metadata": {},
   "source": [
    "### Checking that $V$ is unitary"
   ]
  },
  {
   "cell_type": "code",
   "execution_count": 17,
   "id": "7d110d23",
   "metadata": {},
   "outputs": [],
   "source": [
    "#V = eigu(G)[1]\n",
    "\n",
    "# Hermitian conjugate of V.\n",
    "#V_d = (np.conjugate(V)).transpose()"
   ]
  },
  {
   "cell_type": "code",
   "execution_count": 18,
   "id": "53bd1837",
   "metadata": {},
   "outputs": [],
   "source": [
    "#print('V * V^\\dagger = \\n\\n', np.around(np.matmul(V, V_d),4))"
   ]
  },
  {
   "cell_type": "markdown",
   "id": "25894066",
   "metadata": {},
   "source": [
    "### $\\phi_F$ from $U_d$\n",
    "Given $U_d$ by the function eigu, this function returns an array $\\phi_F$.\n",
    "$$V e^{-i \\phi_F} V^{\\dagger} = V U_d V^{\\dagger}$$ so, $$e^{-i \\phi_F} = U_d$$ or $$ \\phi_F = i \\log(U_d) $$\n",
    "The following function returns and array vector $\\phi_F$ for an operator as input.\n"
   ]
  },
  {
   "cell_type": "code",
   "execution_count": 19,
   "id": "d175e874",
   "metadata": {},
   "outputs": [],
   "source": [
    "def Phi_F(operator): \n",
    "    \n",
    "    return (1j*np.log(eigu(operator)[0])).real  # eigu(Gr)[0] = exp(-i * phi_F)."
   ]
  },
  {
   "cell_type": "markdown",
   "id": "098afb74",
   "metadata": {},
   "source": [
    "### $\\phi_F$ of the constructed Grover operator without noise"
   ]
  },
  {
   "cell_type": "code",
   "execution_count": 20,
   "id": "9f74c855",
   "metadata": {},
   "outputs": [
    {
     "data": {
      "text/plain": [
       "array([ 2.63623214,  0.        ,  0.        ,  0.        ,  0.        ,\n",
       "        0.        ,  0.        ,  0.        ,  0.        ,  0.        ,\n",
       "        0.        ,  0.        ,  0.        ,  0.        ,  0.        ,\n",
       "       -2.63623214])"
      ]
     },
     "execution_count": 20,
     "metadata": {},
     "output_type": "execute_result"
    }
   ],
   "source": [
    "np.around(Phi_F(Grover_reconstructed(0)),8)"
   ]
  },
  {
   "cell_type": "markdown",
   "id": "10e4a2d3",
   "metadata": {},
   "source": [
    "### $\\phi_F$ of the original Grover operator"
   ]
  },
  {
   "cell_type": "code",
   "execution_count": 21,
   "id": "5f0d16b5",
   "metadata": {},
   "outputs": [
    {
     "data": {
      "text/plain": [
       "array([ 2.63623214, -0.        , -0.        ,  0.        ,  0.        ,\n",
       "        0.        , -0.        ,  0.        , -0.        , -0.        ,\n",
       "       -0.        ,  0.        ,  0.        , -0.        ,  0.        ,\n",
       "       -2.63623214])"
      ]
     },
     "execution_count": 21,
     "metadata": {},
     "output_type": "execute_result"
    }
   ],
   "source": [
    "Phi_F(G)"
   ]
  },
  {
   "cell_type": "markdown",
   "id": "bb6e7b58",
   "metadata": {},
   "source": [
    "## Ploting the graph"
   ]
  },
  {
   "cell_type": "code",
   "execution_count": 22,
   "id": "3c9a4a1d",
   "metadata": {},
   "outputs": [],
   "source": [
    "L = N // 2 # Length of half cut number of qubits."
   ]
  },
  {
   "cell_type": "code",
   "execution_count": 23,
   "id": "5c8a70ce",
   "metadata": {},
   "outputs": [],
   "source": [
    "\n",
    "\n",
    "'''\n",
    "    The following function takes a wavefunction as input and returns its entropy.\n",
    "\n",
    "'''\n",
    "\n",
    "def Entropy(Wavefunction):\n",
    "\n",
    "\n",
    "\n",
    "\n",
    "    # Converting the list to a numpy matrix.\n",
    "    Psi = np.matrix(Wavefunction).reshape(len(Wavefunction),1) # Psi column matrix.\n",
    "\n",
    "    # Normalizing Psi.\n",
    "    Psi = Psi/np.linalg.norm(Psi)\n",
    "\n",
    "\n",
    "      \n",
    "    \n",
    "    def psi(s):\n",
    "        return Psi[(2**L)*s:(2**L)*s + 2**L]   \n",
    "    \n",
    "      \n",
    "    '''\n",
    "        psi(s_p) is a row matrix/vector. psi(s) is a column matrix/vector.      \n",
    "        Dimension of rhoA is N/2 x N/2. \n",
    "        The element <s|rhoA|sp> is given by psi_sp^\\dagger * psi_s.\n",
    "        \n",
    "    ''' \n",
    "\n",
    "    def rhoA(s,s_p): # <s|rho_A|s_p>\n",
    "\n",
    "        # psi(s_p)^\\dagger * psi(s) is the element of (s,s_p) of rho_AB.  \n",
    "        return psi(s_p).getH() * psi(s)\n",
    "    \n",
    "    \n",
    "    \n",
    "    def rhoA_Matrix(N):\n",
    "    \n",
    "        M = np.zeros((N,N), dtype = complex) # 0 to N-1.\n",
    "    \n",
    "        '''\n",
    "            rho is Hermitian, it is sufficient to calculate the elements above the diagonal.\n",
    "            The the elements below the diagonal can be replace by the complex cpnjugate of the\n",
    "            elements above the diagonal.\n",
    "        '''\n",
    "        for i in range(N):\n",
    "            for j in range(N):\n",
    "            \n",
    "                if i <= j : # Above the diagonal (i,j) i<j.\n",
    "                \n",
    "                    M[i,j] = rhoA(i,j)[0,0]\n",
    "                \n",
    "                else: # Below the diagonal (i,j) i>j.\n",
    "                \n",
    "                    M[i,j] = np.conjugate(M[j,i])\n",
    "        return M    \n",
    "    \n",
    "    \n",
    "    '''\n",
    "        w is the diagonal of the diagonalized matrix rhoA.\n",
    "\n",
    "    '''\n",
    "    \n",
    "    w, v = np.linalg.eig(rhoA_Matrix(N))\n",
    "    \n",
    "    w = w.real\n",
    "\n",
    "    '''\n",
    "        The following loop calculates S = - sum \\lamba_i * log(\\lambda_i).\n",
    "\n",
    "    '''\n",
    "    \n",
    "    DL = np.zeros(N) # Creating an array for log w with zeros.\n",
    "    \n",
    "    for i in range(len(w)):\n",
    "    \n",
    "        if abs(w[i]) < 1.e-8: # log of zero gives nan.\n",
    "        \n",
    "            pass # Leave the log(zero) element as zero.\n",
    "    \n",
    "        else:\n",
    "        \n",
    "            DL[i] = np.log(w[i])\n",
    "        \n",
    "    # Entropy = -Tr(rho * log(rho)).        \n",
    "    return -sum(w*DL)"
   ]
  },
  {
   "cell_type": "code",
   "execution_count": 24,
   "id": "ff488fa0",
   "metadata": {},
   "outputs": [],
   "source": [
    "\n",
    "\n",
    "def Bin2Dec(BinaryNumber): # Converts binary to decimal numbers.\n",
    "    return int(str(BinaryNumber),2)\n",
    "\n",
    "\n",
    "def Dec2Bin(DecimalNumber): # Converts decimal to binary numbers.\n",
    "    return bin(DecimalNumber).replace(\"0b\", \"\")\n",
    "\n",
    "\n",
    "\n",
    "List = [i for i in range(2**N)] \n",
    "\n",
    "\n",
    "'''\n",
    "The following function converts all numbers in decimals in the above list  from 0 to 2^N -1 to binary.\n",
    "\n",
    "''' \n",
    "def List_Bin(List):\n",
    "    \n",
    "    l = []\n",
    "    \n",
    "    for i in List:\n",
    "        \n",
    "        i_Bin = Dec2Bin(i)\n",
    "              \n",
    "        \n",
    "        '''\n",
    "        While converting numbers from decimal to binary, for example, 1 is mapped to 1, to make sure that\n",
    "        every numbers have N qubits in them, the following loop adds leading zeros to make the\n",
    "        length of the binary string equal to N. Now, 1 is mapped to 000.....1 (string of length N).\n",
    "        \n",
    "        '''\n",
    "        \n",
    "        while len(i_Bin) < N: \n",
    "            \n",
    "            i_Bin = '0'+i_Bin # This loop adds leading zeros.\n",
    "            \n",
    "        l.append(i_Bin)\n",
    "        \n",
    "    return l\n",
    "\n",
    "\n",
    "\n",
    "\n",
    "\n",
    "'''\n",
    "    The following function takes a binary string as input and rolls the qubits by one and\n",
    "    returns the rolled string.\n",
    "\n",
    "'''\n",
    "\n",
    "def Roll_String(Binary_String):\n",
    "    \n",
    "    return Binary_String[-1] + Binary_String[:-1]\n",
    "\n",
    "\n",
    "\n",
    "\n",
    "\n",
    "\n",
    "\n",
    "'''\n",
    "    The following function takes a wavefunction as input and performs one roll on the qubits and\n",
    "    returns the resultant wavefunction.\n",
    "\n",
    "'''\n",
    "\n",
    "def Psi_Roll(Inital_Psi):\n",
    "    \n",
    "    \n",
    "    \n",
    "    '''\n",
    "        The following list contains all possible 2^N qubits after one roll is performed on them.\n",
    "        For example, the first position 0001 is changed to 1000.\n",
    "    \n",
    "    '''\n",
    "    \n",
    "    Rl = [Roll_String(i) for i in List_Bin(List)] # Rolls every string in the list List by one qubit.\n",
    "\n",
    "   \n",
    "\n",
    "    \n",
    "    ''' \n",
    "        The following list contains the previous list but in decimal numbers. For example,\n",
    "        for N =4, the first position 1 is changed to 8.\n",
    "        \n",
    "    \n",
    "    '''\n",
    "    \n",
    "    Rl_d = [Bin2Dec(i) for i in Rl] # Converts the rolled binary string to decimal number.\n",
    "\n",
    "\n",
    "    '''\n",
    "        The following loop rearranges the coefficients of Psi after rolling. For example, for N = 4,\n",
    "        if the first coefficient 0001 is mapped to the eighth coefficient 1000 after one rotation of\n",
    "        the qubits. The coefficient of the rolled Psi in the i ^ th position is in the Rl_d[i] ^ th positon\n",
    "        of the initial Psi.\n",
    "    \n",
    "    '''\n",
    "    \n",
    "    \n",
    "    Psi_Rolled = []\n",
    "\n",
    "    for i in range(2**N): \n",
    "    \n",
    "        Psi_Rolled.append(Inital_Psi[Rl_d[i]]) # Rearranging the coefficients according to the list l_d.\n",
    "        \n",
    "    return Psi_Rolled\n",
    "\n",
    "\n",
    "\n",
    "\n",
    "\n",
    "\n",
    "'''\n",
    "    The following function performs specified number of rolls Num on the qubits.\n",
    "\n",
    "'''\n",
    "\n",
    "def N_Rolled(Num, Initial_Psi): # Use loop only for postive N.\n",
    "    \n",
    "    if Num == 0:\n",
    "        \n",
    "        return Initial_Psi\n",
    "    \n",
    "    else:\n",
    "    \n",
    "        s = Psi_Roll(Initial_Psi) # One roll.\n",
    "    \n",
    "        for i in range(Num-1): # Loop performing remaining N-1 rolls.\n",
    "        \n",
    "            s = Psi_Roll(s)\n",
    "        \n",
    "        return np.matrix(s).reshape(2**N,1) # Returning the rolled wavefunction as a matrix."
   ]
  },
  {
   "cell_type": "code",
   "execution_count": 25,
   "id": "1068013f",
   "metadata": {},
   "outputs": [],
   "source": [
    "def Average_Entropy(Initial_Psi):\n",
    "    \n",
    "    list_of_entropies = []\n",
    "    \n",
    "    '''\n",
    "    The loop calculates all the entropies and returns a list containing them.\n",
    "    \n",
    "    '''\n",
    "    for i in range(N):\n",
    "        \n",
    "        S = Entropy(N_Rolled(i, Initial_Psi))\n",
    "        list_of_entropies.append(S)\n",
    "        \n",
    "    # Returns the average entropy    \n",
    "    return sum(list_of_entropies) / len(list_of_entropies)"
   ]
  },
  {
   "cell_type": "code",
   "execution_count": 26,
   "id": "441afb08",
   "metadata": {},
   "outputs": [],
   "source": [
    "def V_Matrix(operator):\n",
    "    return eigu(operator)[1]"
   ]
  },
  {
   "cell_type": "code",
   "execution_count": 27,
   "id": "5caa3fee",
   "metadata": {},
   "outputs": [],
   "source": [
    "def Arr2List(Arr):\n",
    "    Arr_l = Arr.tolist()\n",
    "    l = []\n",
    "    for i in Arr_l:\n",
    "        l.append(i[0])\n",
    "    return l"
   ]
  },
  {
   "cell_type": "markdown",
   "id": "78febcd5",
   "metadata": {},
   "source": [
    "## Sorted eigenenergies entropy"
   ]
  },
  {
   "cell_type": "code",
   "execution_count": 28,
   "id": "e57cc20e",
   "metadata": {},
   "outputs": [],
   "source": [
    "def Phi_F(operator): \n",
    "    \n",
    "    return (1j*np.log(eigu(operator)[0])).real  # eigu(Gr)[0] = exp(-i * phi_F)."
   ]
  },
  {
   "cell_type": "code",
   "execution_count": 29,
   "id": "491932e2",
   "metadata": {
    "scrolled": true
   },
   "outputs": [
    {
     "data": {
      "text/plain": [
       "4"
      ]
     },
     "execution_count": 29,
     "metadata": {},
     "output_type": "execute_result"
    }
   ],
   "source": [
    "N"
   ]
  },
  {
   "cell_type": "code",
   "execution_count": null,
   "id": "a62b7922",
   "metadata": {},
   "outputs": [],
   "source": []
  },
  {
   "cell_type": "code",
   "execution_count": 30,
   "id": "43dc28d0",
   "metadata": {},
   "outputs": [
    {
     "name": "stdout",
     "output_type": "stream",
     "text": [
      "-0.9219657538771908\n",
      "-0.4634253075693986\n",
      "0.3851710750552024\n",
      "0.5311366111438529\n",
      "-0.959511347789975\n"
     ]
    }
   ],
   "source": [
    "eps = 0.6\n",
    "\n",
    "\n",
    "sf = open('sorted_entropy'+str(eps)+'.txt','w') \n",
    "    \n",
    "\n",
    "    \n",
    "\n",
    "Noise_realization = 5\n",
    "\n",
    "for i in range(Noise_realization):\n",
    "    \n",
    "    sf = open('sorted_entropy'+str(eps)+'.txt','a')\n",
    "    \n",
    "    Rz_Noise = 2*(np.random.rand(Rz_Number)-0.5)\n",
    "    \n",
    "    print(Rz_Noise[-1])\n",
    "    \n",
    "    Op = Grover_reconstructed(eps) # Grover with noise constructed.\n",
    "    \n",
    "    E = eigu(Op)\n",
    "    \n",
    "    Eigenvalues = list((1j*np.log(E[0])).real) # eigenvalues of the operator with noise\n",
    "    \n",
    "    Eigenvalues_sorted = sorted(Eigenvalues) # sorts the eigenvalues\n",
    "    V = E[1]\n",
    "    \n",
    "    \n",
    "    \n",
    "    for j in range(2**N):\n",
    "        \n",
    "        # finds the original index of the eigenvalues after sorting.\n",
    "        original_index = Eigenvalues.index(Eigenvalues_sorted[j])\n",
    "        \n",
    "        # finds the corresponding entropy of the eigenstates of that index.\n",
    "        #Entropies.append(Average_Entropy(Arr2List(V[:, original_index : original_index+1])))\n",
    "        sf.write(str(i) + ',' + str(j) + ',' + str(Eigenvalues_sorted[j]) + ',' + str(Average_Entropy(Arr2List(V[:, original_index : original_index+1]))) +'\\n')"
   ]
  },
  {
   "cell_type": "code",
   "execution_count": 31,
   "id": "785bb7dd",
   "metadata": {},
   "outputs": [],
   "source": [
    "I,J,P,S = np.loadtxt('sorted_entropy'+str(eps)+'.txt', delimiter = ',', unpack=True)"
   ]
  },
  {
   "cell_type": "code",
   "execution_count": 32,
   "id": "96098dfc",
   "metadata": {},
   "outputs": [
    {
     "data": {
      "text/plain": [
       "4"
      ]
     },
     "execution_count": 32,
     "metadata": {},
     "output_type": "execute_result"
    }
   ],
   "source": [
    "M = int(len(S)/2**N)\n",
    "M"
   ]
  },
  {
   "cell_type": "code",
   "execution_count": 33,
   "id": "ae925a05",
   "metadata": {},
   "outputs": [],
   "source": [
    "Sm = np.matrix(np.reshape(S,(M, 2**N)))"
   ]
  },
  {
   "cell_type": "code",
   "execution_count": 34,
   "id": "73f3f814",
   "metadata": {},
   "outputs": [],
   "source": [
    "Pm = np.matrix(np.reshape(P,(M, 2**N)))"
   ]
  },
  {
   "cell_type": "code",
   "execution_count": null,
   "id": "d5b9145b",
   "metadata": {},
   "outputs": [],
   "source": []
  },
  {
   "cell_type": "code",
   "execution_count": 337,
   "id": "5b7f7f2d",
   "metadata": {},
   "outputs": [],
   "source": [
    "threshold = 0.5\n",
    "\n",
    "def Bulk_Special_Merge(Matrix): # Matrix is Phi\n",
    "    \n",
    "    for i in range(M): # for each phi\n",
    "        \n",
    "        x1 = Matrix[i:i+1].tolist()[0][0] # first element\n",
    "        x2 = Matrix[i:i+1].tolist()[0][1] # second element\n",
    "        \n",
    "        x_2N = Matrix[i:i+1].tolist()[0][-1] # last element\n",
    "        x_2N_1 = Matrix[i:i+1].tolist()[0][-2] # second last element\n",
    "        \n",
    "        if abs(x1-x2) < threshold or abs(x_2N - x_2N_1) < threshold:\n",
    "            \n",
    "            return True # special states and bulk have merged\n",
    "        \n",
    "        else:\n",
    "            \n",
    "            return False # special states and bulk have not merged"
   ]
  },
  {
   "cell_type": "code",
   "execution_count": null,
   "id": "46d5e6a5",
   "metadata": {},
   "outputs": [],
   "source": [
    "while True:\n",
    "    \n",
    "    if Bulk_Special_Merge(Pm) == False: # Have not merged\n",
    "        \n",
    "        Sm_std = []\n",
    "\n",
    "        for i in range(1,2**N-1): # ignoring the two special states\n",
    "            \n",
    "            Sm_std.append(np.std(Sm[:,i:i+1]))\n",
    "        \n",
    "        \n",
    "    else:\n",
    "        \n",
    "        break # Merged so stop the program"
   ]
  },
  {
   "cell_type": "code",
   "execution_count": 35,
   "id": "5993ad13",
   "metadata": {},
   "outputs": [
    {
     "data": {
      "text/plain": [
       "matrix([[0.68185048],\n",
       "        [0.3788061 ],\n",
       "        [0.65710944],\n",
       "        [0.89730529]])"
      ]
     },
     "execution_count": 35,
     "metadata": {},
     "output_type": "execute_result"
    }
   ],
   "source": [
    "Sm[:,0:1]"
   ]
  },
  {
   "cell_type": "code",
   "execution_count": null,
   "id": "69d6cb5e",
   "metadata": {},
   "outputs": [],
   "source": []
  },
  {
   "cell_type": "code",
   "execution_count": 39,
   "id": "2074ac99",
   "metadata": {},
   "outputs": [],
   "source": [
    "sum_s = np.sum(Sm, axis = 0)\n",
    "average_s = sum_s/M\n",
    "Sm_std = np.std(Sm)"
   ]
  },
  {
   "cell_type": "code",
   "execution_count": 37,
   "id": "98b0327f",
   "metadata": {},
   "outputs": [
    {
     "name": "stdout",
     "output_type": "stream",
     "text": [
      "time taken,  0.9153993527094523 minutes\n"
     ]
    }
   ],
   "source": [
    "end = time.time()\n",
    "print('time taken, ',(end-start)/60,'minutes')"
   ]
  },
  {
   "cell_type": "code",
   "execution_count": 41,
   "id": "9244a7ba",
   "metadata": {},
   "outputs": [
    {
     "data": {
      "image/png": "[encoded data removed]",
      "text/plain": [
       "<Figure size 1152x720 with 1 Axes>"
      ]
     },
     "metadata": {
      "needs_background": "light"
     },
     "output_type": "display_data"
    }
   ],
   "source": [
    "  # Define Data\n",
    "\n",
    "# Plot error bar\n",
    "\n",
    "#plt.errorbar(x, y, yerr = np.std(y), fmt = 'o',color = 'red', \n",
    "           # ecolor = 'blue', elinewidth = 3, capsize=10)\n",
    "\n",
    "font = {'family' : 'Helvetica',\n",
    "        'weight' : 'bold',\n",
    "        'size'   : 35}\n",
    "\n",
    "plt.rc('font', **font)\n",
    "\n",
    "\n",
    "\n",
    "\n",
    "\n",
    "\n",
    "f = plt.figure()\n",
    "f.set_figwidth(16)\n",
    "f.set_figheight(10)    \n",
    "ind = [i for i in range(2**N)]    \n",
    "plt.scatter(ind, list(average_s), s = 100, c = 'r')\n",
    "  \n",
    "#plt.errorbar(ind, list(average_s), yerr=ind, fmt=\"o\")    \n",
    "plt.errorbar(ind, average_s.tolist()[0], yerr= Sm_std, fmt=\"o\", color=\"r\",\n",
    "             ecolor = 'blue', elinewidth = 1, capsize = 5)\n",
    "plt.title('Target state = ' +str(Target_state) + ' , $\\epsilon$ = '+str(eps))\n",
    "plt.xlabel(\"$N$\")\n",
    "plt.ylabel(\"$S$\")\n",
    "plt.xlim(-1,17)\n",
    "plt.ylim(0,1.55)\n",
    "plt.savefig('entropy_vs_N.pdf')\n",
    "plt.show()\n",
    "# Display graph\n"
   ]
  }
 ],
 "metadata": {
  "celltoolbar": "Raw Cell Format",
  "kernelspec": {
   "display_name": "Python 3 (ipykernel)",
   "language": "python",
   "name": "python3"
  },
  "language_info": {
   "codemirror_mode": {
    "name": "ipython",
    "version": 3
   },
   "file_extension": ".py",
   "mimetype": "text/x-python",
   "name": "python",
   "nbconvert_exporter": "python",
   "pygments_lexer": "ipython3",
   "version": "3.9.7"
  }
 },
 "nbformat": 4,
 "nbformat_minor": 5
}
