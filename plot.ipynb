{
 "cells": [
  {
   "cell_type": "code",
   "execution_count": 2,
   "id": "5a9fdcf7",
   "metadata": {},
   "outputs": [],
   "source": [
    "import csv\n",
    "import numpy as np\n",
    "import matplotlib.pyplot as plt\n",
    "from qiskit import *\n",
    "from qiskit import Aer\n",
    "import qiskit.quantum_info as qi\n",
    "import numpy as np\n",
    "import matplotlib.pyplot as plt\n",
    "import re"
   ]
  },
  {
   "cell_type": "code",
   "execution_count": 39,
   "id": "a8ee7a23",
   "metadata": {},
   "outputs": [],
   "source": [
    "## Number of qubits.\n",
    "N = 3"
   ]
  },
  {
   "cell_type": "markdown",
   "id": "abd1b6a8",
   "metadata": {},
   "source": []
  },
  {
   "cell_type": "code",
   "execution_count": 40,
   "id": "6879e98a",
   "metadata": {},
   "outputs": [],
   "source": [
    "## The function opens the text file and returns the gates in columns. \n",
    "def Gate_List():\n",
    "    \n",
    "    with open('gates_list.txt', 'r') as file:\n",
    "        rows = [[str(x) for x in line.split(',')[:-1]] for line in file]\n",
    "        cols = [list(col) for col in zip(*rows)]\n",
    "        \n",
    "    return cols"
   ]
  },
  {
   "cell_type": "code",
   "execution_count": 41,
   "id": "eb463fd6",
   "metadata": {},
   "outputs": [],
   "source": [
    "## The following loop recreates the initial list structure of the list containing the gates.\n",
    "## It also counts the total number of Rz gates in the list.\n",
    "l = []\n",
    "Rz_Number = 0\n",
    "\n",
    "Number_of_gates = len(Gate_List()[0])\n",
    "\n",
    "for i in range(Number_of_gates):\n",
    "    \n",
    "    if Gate_List()[0][i] == 'rz':\n",
    "        \n",
    "        angle = Gate_List()[1][i]\n",
    "        qubit = Gate_List()[2][i]\n",
    "        l.append(['rz', angle, qubit])\n",
    "        \n",
    "        Rz_Number = Rz_Number + 1\n",
    "        \n",
    "    elif Gate_List()[0][i] == 'cx':\n",
    "        \n",
    "        target = Gate_List()[1][i]\n",
    "        control = Gate_List()[2][i]\n",
    "        l.append(['cx', target, control])\n",
    "        \n",
    "    else:\n",
    "        \n",
    "        qubit = Gate_List()[2][i]\n",
    "        l.append(['h',0.0, qubit])"
   ]
  },
  {
   "cell_type": "code",
   "execution_count": 4,
   "id": "77003dad",
   "metadata": {},
   "outputs": [],
   "source": [
    "#np.log(-1)"
   ]
  },
  {
   "cell_type": "markdown",
   "id": "44e6d28e",
   "metadata": {},
   "source": [
    "## Hadamard Gate\n",
    "Given the qubit, the following function returns the matrix of the Hadamard gate for N qubits."
   ]
  },
  {
   "cell_type": "code",
   "execution_count": 45,
   "id": "b2f311e2",
   "metadata": {},
   "outputs": [],
   "source": [
    "## The dimension of the matrix is fixed by the number of qubits.\n",
    "def Hadamard(Qubit):\n",
    "    \n",
    "    ## Changing the simulator \n",
    "    backend = Aer.get_backend('unitary_simulator')\n",
    "\n",
    "    ## The circuit without measurement\n",
    "    circ = QuantumCircuit(N)\n",
    "    circ.h(Qubit)\n",
    "\n",
    "    ## job execution and getting the result as an object\n",
    "    job = execute(circ, backend)\n",
    "    result = job.result()\n",
    "\n",
    "    ## get the unitary matrix from the result object\n",
    "    return result.get_unitary(circ)"
   ]
  },
  {
   "cell_type": "markdown",
   "id": "8acd28c8",
   "metadata": {},
   "source": [
    "## CNOT Gate\n",
    "Given the target and the control bit as input, the following function returns the matrix of the CNOT gate for N qubits."
   ]
  },
  {
   "cell_type": "code",
   "execution_count": 46,
   "id": "2b3b339b",
   "metadata": {},
   "outputs": [],
   "source": [
    "## The dimension of the matrix is fixed by the number of qubits.\n",
    "def C_not(t,c):\n",
    "    ## Changing the simulator \n",
    "    backend = Aer.get_backend('unitary_simulator')\n",
    "\n",
    "    ## The circuit without measurement\n",
    "    circ = QuantumCircuit(N)\n",
    "    circ.cx(t,c)\n",
    "\n",
    "    ## job execution and getting the result as an object\n",
    "    job = execute(circ, backend)\n",
    "    result = job.result()\n",
    "\n",
    "    ## get the unitary matrix from the result object\n",
    "    return result.get_unitary(circ) "
   ]
  },
  {
   "cell_type": "markdown",
   "id": "46184b50",
   "metadata": {},
   "source": [
    "## Rz Gate\n",
    "Given the angle and the qubit it is applied to, the following function returns the matrix of the Rz gate for N qubits."
   ]
  },
  {
   "cell_type": "code",
   "execution_count": 47,
   "id": "6950d44e",
   "metadata": {},
   "outputs": [],
   "source": [
    "def Rz(Angle, Qubit):\n",
    "    ## Changing the simulator \n",
    "    backend = Aer.get_backend('unitary_simulator')\n",
    "\n",
    "    ## The circuit without measurement\n",
    "    circ = QuantumCircuit(N)\n",
    "    circ.rz(Angle, Qubit)\n",
    "\n",
    "    ## job execution and getting the result as an object\n",
    "    job = execute(circ, backend)\n",
    "    result = job.result()\n",
    "\n",
    "    ## get the unitary matrix from the result object\n",
    "    return result.get_unitary(circ)     "
   ]
  },
  {
   "cell_type": "markdown",
   "id": "f709b34d",
   "metadata": {},
   "source": [
    "## Diagnonalization of G, $G = V e^{-i \\phi_F} V^{\\dagger}$"
   ]
  },
  {
   "cell_type": "code",
   "execution_count": null,
   "id": "64e13f21",
   "metadata": {},
   "outputs": [],
   "source": [
    "import numpy\n",
    "import numpy.linalg\n",
    "\n",
    "sigma_x=numpy.zeros((2,2),dtype=complex)\n",
    "sigma_y=numpy.zeros((2,2),dtype=complex)\n",
    "sigma_z=numpy.zeros((2,2),dtype=complex)\n",
    "sigma_0=numpy.identity(2,dtype=complex)\n",
    "sigma_x[0,1]=1.\n",
    "sigma_x[1,0]=1.\n",
    "sigma_y[0,1]=-1.j\n",
    "sigma_y[1,0]=1.j\n",
    "sigma_z[0,0]=1.\n",
    "sigma_z[1,1]=-1.\n",
    "sigma_plus=(sigma_x+1.j*sigma_y)/2.\n",
    "sigma_minus=(sigma_x-1.j*sigma_y)/2.\n",
    "\n",
    "def adjoint(psi):\n",
    "    return psi.conjugate().transpose()\n",
    "\n",
    "def psi_to_rho(psi):\n",
    "    return numpy.outer(psi,psi.conjugate())\n",
    "\n",
    "def exp_val(psi, op):\n",
    "    return numpy.real(numpy.dot(adjoint(psi),op.dot(psi)))\n",
    "\n",
    "def norm_sq(psi):\n",
    "    return numpy.real(numpy.dot(adjoint(psi),psi))\n",
    "\n",
    "def normalize(psi,tol=1e-9):\n",
    "    ns=norm_sq(psi)**0.5\n",
    "    if ns < tol:\n",
    "        raise ValueError\n",
    "    return psi/ns\n",
    "\n",
    "def comm(a,b):\n",
    "    return a.dot(b)-b.dot(a)\n",
    "\n",
    "def anti_comm(a,b):\n",
    "    return a.dot(b)+b.dot(a)\n",
    "\n",
    "def is_herm(M,tol=1e-9):\n",
    "    if M.shape[0]!=M.shape[1]:\n",
    "        return False\n",
    "    diff=M-adjoint(M)\n",
    "    return max(numpy.abs(diff.flatten())) < tol\n",
    "\n",
    "def is_unitary(M,tol=1e-9):\n",
    "    if M.shape[0]!=M.shape[1]:\n",
    "        return False\n",
    "    diff=M.dot(adjoint(M))-numpy.identity((M.shape[0]))\n",
    "    return max(numpy.abs(diff.flatten())) < tol\n",
    "\n",
    "def eigu(U,tol=1e-9):\n",
    "    (E_1,V_1)=numpy.linalg.eigh(U+adjoint(U))\n",
    "    U_1=adjoint(V_1).dot(U).dot(V_1)\n",
    "    H_1=adjoint(V_1).dot(U+adjoint(U)).dot(V_1)\n",
    "    non_diag_lst=[]\n",
    "    j=0\n",
    "    while j < U_1.shape[0]:\n",
    "        k=0\n",
    "        while k < U_1.shape[0]:\n",
    "            if j!=k and abs(U_1[j,k]) > tol:\n",
    "                if j not in non_diag_lst:\n",
    "                    non_diag_lst.append(j)\n",
    "                if k not in non_diag_lst:\n",
    "                    non_diag_lst.append(k)\n",
    "            k+=1\n",
    "        j+=1\n",
    "    if len(non_diag_lst) > 0:\n",
    "        non_diag_lst=numpy.sort(numpy.array(non_diag_lst))\n",
    "        U_1_cut=U_1[non_diag_lst,:][:,non_diag_lst]\n",
    "        (E_2_cut,V_2_cut)=numpy.linalg.eigh(1.j*(U_1_cut-adjoint(U_1_cut)))\n",
    "        V_2=numpy.identity((U.shape[0]),dtype=V_2_cut.dtype)\n",
    "        for j in range(len(non_diag_lst)):\n",
    "            V_2[non_diag_lst[j],non_diag_lst]=V_2_cut[j,:]\n",
    "        V_1=V_1.dot(V_2)\n",
    "        U_1=adjoint(V_2).dot(U_1).dot(V_2)\n",
    "\n",
    "    # Sort by phase\n",
    "    U_1=numpy.diag(U_1)\n",
    "    inds=numpy.argsort(numpy.imag(numpy.log(U_1)))\n",
    "\n",
    "    return (U_1[inds],V_1[:,inds]) # = (U_d,V) s.t. U=V*U_d*V^\\dagger"
   ]
  },
  {
   "cell_type": "markdown",
   "id": "f5348951",
   "metadata": {},
   "source": [
    "## $\\phi_F$ from $U_d$\n",
    "$V e^{-i \\phi_F} V^{\\dagger} = V U_d V^{\\dagger}$, so, $e^{-i \\phi_F} = U_d$. Given $U_d$ by the function eigu, this function returns the array $\\phi_F$."
   ]
  },
  {
   "cell_type": "code",
   "execution_count": 48,
   "id": "9f279175",
   "metadata": {},
   "outputs": [],
   "source": [
    "## exp(-i*phi_F) = U_d. Given U_d by the function eigu, this function returns the array phi_F.\n",
    "def Phi_F(Vector):\n",
    "    \n",
    "    phi_F = np.zeros(2**N, dtype = complex)\n",
    "    \n",
    "    for i in range(2**N):\n",
    "        \n",
    "        if abs(1-Vector[i]) < 1.e-6:\n",
    "            \n",
    "            phi_F[i] = -2*np.pi\n",
    "            \n",
    "        elif Vector[i].real < 0:\n",
    "            \n",
    "            phi_F[i] = 1j*np.log(abs(Vector[i])) - np.pi\n",
    "            \n",
    "        else:\n",
    "            \n",
    "            phi_F[i] = 1j*np.log(Vector[i])\n",
    "            \n",
    "    return phi_F"
   ]
  },
  {
   "cell_type": "code",
   "execution_count": null,
   "id": "ff44f6cc",
   "metadata": {},
   "outputs": [],
   "source": []
  },
  {
   "cell_type": "markdown",
   "id": "38248451",
   "metadata": {},
   "source": [
    "# Grover with noise."
   ]
  },
  {
   "cell_type": "markdown",
   "id": "04b69550",
   "metadata": {},
   "source": [
    "## Noise creation\n",
    "This following line creates an array of random numbers which length is equal to the number of Rz gates."
   ]
  },
  {
   "cell_type": "code",
   "execution_count": 57,
   "id": "ece824ef",
   "metadata": {},
   "outputs": [],
   "source": [
    "Rz_Noise = np.random.rand(Rz_Number)\n",
    "\n",
    "# Use the line below for no noise case.\n",
    "#Rz_Noise = np.zeros(Rz_Number)"
   ]
  },
  {
   "cell_type": "code",
   "execution_count": 49,
   "id": "6e011aca",
   "metadata": {},
   "outputs": [],
   "source": [
    "## Given the noise strength epsilon, this function returns the array phi_F for G = V * exp(-i*phi_F) * V^\\dagger\n",
    "\n",
    "def Phi(epsilon):\n",
    "    \n",
    "    ## Initializing the Grover operator as an identity matrix.\n",
    "    Gr = np.identity(2**N, dtype = complex) \n",
    "\n",
    "    ## In the following loop we multiply all the 1 and 2 qubit gates with noise.\n",
    "    j = 0\n",
    "    for i in range(len(l)):\n",
    "    \n",
    "        if l[i][0] == 'rz':\n",
    "        \n",
    "            Gr = np.matmul(Rz(float(l[i][1]) + epsilon * Rz_Noise[j] , int(l[i][2])) ,Gr)\n",
    "            j = j + 1\n",
    "        \n",
    "        elif l[i][0] == 'h':\n",
    "        \n",
    "            Gr = np.matmul(Hadamard(int(l[i][2])), Gr)\n",
    "        \n",
    "        else:\n",
    "        \n",
    "            Gr = np.matmul(C_not(int(l[i][1]), int(l[i][2])), Gr)\n",
    "        \n",
    "    return Phi_F(eigu(Gr)[0]).real  #eigu(Gr)[0] = exp(-i * phi_F)."
   ]
  },
  {
   "cell_type": "code",
   "execution_count": 50,
   "id": "f2523590",
   "metadata": {},
   "outputs": [],
   "source": [
    "f = open('quantum_data.txt', 'w')\n",
    "for i in range(1,50):\n",
    "    eps = i/25\n",
    "    f = open('quantum_data.txt', 'a')\n",
    "    for j in range(2**N):\n",
    "        f.write(str(eps)+','+str(Phi(eps)[j])+'\\n')\n",
    "    f.close()    "
   ]
  },
  {
   "cell_type": "code",
   "execution_count": 1,
   "id": "8c689a24",
   "metadata": {},
   "outputs": [
    {
     "data": {
      "image/png": "[encoded data removed]",
      "text/plain": [
       "<Figure size 576x432 with 1 Axes>"
      ]
     },
     "metadata": {
      "needs_background": "light"
     },
     "output_type": "display_data"
    }
   ],
   "source": [
    "import matplotlib.pyplot as plt\n",
    "import numpy as np\n",
    "\n",
    "X, Y = np.loadtxt('quantum_data.txt', delimiter = ',', unpack=True)\n",
    "f = plt.figure()\n",
    "f.set_figwidth(8)\n",
    "f.set_figheight(6)\n",
    "plt.scatter(X, Y, s=8, c='r')\n",
    "\n",
    "plt.title('Phi_F vs. epsilon',fontsize=18)\n",
    "plt.xlabel('Epsilon',fontsize=15)\n",
    "plt.xticks(fontsize=16)\n",
    "plt.ylabel('Phi_F',fontsize=15)\n",
    "plt.yticks(fontsize=16)\n",
    "plt.show()\n",
    "\n"
   ]
  },
  {
   "cell_type": "code",
   "execution_count": null,
   "id": "c2252714",
   "metadata": {},
   "outputs": [],
   "source": []
  },
  {
   "cell_type": "code",
   "execution_count": null,
   "id": "e274a0ee",
   "metadata": {},
   "outputs": [],
   "source": []
  }
 ],
 "metadata": {
  "kernelspec": {
   "display_name": "Python 3 (ipykernel)",
   "language": "python",
   "name": "python3"
  },
  "language_info": {
   "codemirror_mode": {
    "name": "ipython",
    "version": 3
   },
   "file_extension": ".py",
   "mimetype": "text/x-python",
   "name": "python",
   "nbconvert_exporter": "python",
   "pygments_lexer": "ipython3",
   "version": "3.9.7"
  }
 },
 "nbformat": 4,
 "nbformat_minor": 5
}
